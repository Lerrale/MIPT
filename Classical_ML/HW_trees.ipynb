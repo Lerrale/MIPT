{
 "cells": [
  {
   "cell_type": "code",
   "execution_count": 1,
   "id": "eeb913d1",
   "metadata": {},
   "outputs": [],
   "source": [
    "import numpy as np\n",
    "import pandas as pd\n",
    "import scipy.stats\n",
    "import warnings\n",
    "import graphviz\n",
    "from tqdm import tqdm_notebook\n",
    "\n",
    "from matplotlib.colors import ListedColormap\n",
    "import matplotlib.pyplot as plt\n",
    "import seaborn as sns\n",
    "\n",
    "from sklearn import datasets\n",
    "from sklearn.metrics import accuracy_score, mean_squared_error\n",
    "from sklearn.tree import DecisionTreeClassifier, DecisionTreeRegressor, export_graphviz, plot_tree\n",
    "from sklearn.ensemble import RandomForestClassifier, RandomForestRegressor\n",
    "from sklearn.model_selection import train_test_split\n",
    "from sklearn.pipeline import make_pipeline\n",
    "\n",
    "sns.set(font_scale=1.5)\n",
    "warnings.filterwarnings(\"ignore\")"
   ]
  },
  {
   "cell_type": "code",
   "execution_count": 2,
   "id": "3b8d7931",
   "metadata": {},
   "outputs": [],
   "source": [
    "df1 = pd.read_csv('data/train_5.csv')\n",
    "df = df1.copy()"
   ]
  },
  {
   "cell_type": "markdown",
   "id": "f7f20e0e",
   "metadata": {},
   "source": [
    "# Информация о таблице"
   ]
  },
  {
   "cell_type": "markdown",
   "id": "0de43e20",
   "metadata": {},
   "source": [
    "#### Описание столбцов\n",
    "\n",
    "- **PassengerId** - Уникальный идентификатор для каждого пассажира. Каждый идентификатор принимает форму , gggg_ppгде ggggуказывает группу, с которой путешествует пассажир, и ppявляется их номером в группе. Люди в группе часто являются членами семьи, но не всегда.\n",
    "- **HomePlanet** - Планета, с которой вылетел пассажир, как правило, планета его постоянного проживания.\n",
    "- **CryoSleep** - Указывает, решил ли пассажир быть переведен в режим анабиоза на время рейса. Пассажиры, находящиеся в криосонном состоянии, находятся в своих каютах.\n",
    "- **Cabin** - Номер каюты, в которой находится пассажир. Принимает вид deck/num/side, где sideможет быть либо Pза левый , либо Sза правый борт .\n",
    "- **Destination** - Планета, на которую будет высаживаться пассажир.\n",
    "- **Age** - Возраст пассажира.\n",
    "- **VIP** - Оплатил ли пассажир специальное VIP-обслуживание во время рейса.\n",
    "- **RoomService**, **FoodCourt**, **ShoppingMall**, **Spa**, **VRDeck**- Сумма, которую пассажир выставил в счет за каждое из многочисленных роскошных удобств космического корабля Титаник .\n",
    "- **Name** - Имя и фамилия пассажира.\n",
    "- **Transported** - Был ли пассажир перенесён в другое измерение. Это цель, столбец, который вы пытаетесь предсказать."
   ]
  },
  {
   "cell_type": "code",
   "execution_count": 3,
   "id": "01ff6862",
   "metadata": {
    "scrolled": false
   },
   "outputs": [
    {
     "data": {
      "text/html": [
       "<div>\n",
       "<style scoped>\n",
       "    .dataframe tbody tr th:only-of-type {\n",
       "        vertical-align: middle;\n",
       "    }\n",
       "\n",
       "    .dataframe tbody tr th {\n",
       "        vertical-align: top;\n",
       "    }\n",
       "\n",
       "    .dataframe thead th {\n",
       "        text-align: right;\n",
       "    }\n",
       "</style>\n",
       "<table border=\"1\" class=\"dataframe\">\n",
       "  <thead>\n",
       "    <tr style=\"text-align: right;\">\n",
       "      <th></th>\n",
       "      <th>PassengerId</th>\n",
       "      <th>HomePlanet</th>\n",
       "      <th>CryoSleep</th>\n",
       "      <th>Cabin</th>\n",
       "      <th>Destination</th>\n",
       "      <th>Age</th>\n",
       "      <th>VIP</th>\n",
       "      <th>RoomService</th>\n",
       "      <th>FoodCourt</th>\n",
       "      <th>ShoppingMall</th>\n",
       "      <th>Spa</th>\n",
       "      <th>VRDeck</th>\n",
       "      <th>Name</th>\n",
       "      <th>Transported</th>\n",
       "    </tr>\n",
       "  </thead>\n",
       "  <tbody>\n",
       "    <tr>\n",
       "      <th>0</th>\n",
       "      <td>0001_01</td>\n",
       "      <td>Europa</td>\n",
       "      <td>False</td>\n",
       "      <td>B/0/P</td>\n",
       "      <td>TRAPPIST-1e</td>\n",
       "      <td>39.0</td>\n",
       "      <td>False</td>\n",
       "      <td>0.0</td>\n",
       "      <td>0.0</td>\n",
       "      <td>0.0</td>\n",
       "      <td>0.0</td>\n",
       "      <td>0.0</td>\n",
       "      <td>Maham Ofracculy</td>\n",
       "      <td>False</td>\n",
       "    </tr>\n",
       "    <tr>\n",
       "      <th>1</th>\n",
       "      <td>0002_01</td>\n",
       "      <td>Earth</td>\n",
       "      <td>False</td>\n",
       "      <td>F/0/S</td>\n",
       "      <td>TRAPPIST-1e</td>\n",
       "      <td>24.0</td>\n",
       "      <td>False</td>\n",
       "      <td>109.0</td>\n",
       "      <td>9.0</td>\n",
       "      <td>25.0</td>\n",
       "      <td>549.0</td>\n",
       "      <td>44.0</td>\n",
       "      <td>Juanna Vines</td>\n",
       "      <td>True</td>\n",
       "    </tr>\n",
       "    <tr>\n",
       "      <th>2</th>\n",
       "      <td>0003_01</td>\n",
       "      <td>Europa</td>\n",
       "      <td>False</td>\n",
       "      <td>A/0/S</td>\n",
       "      <td>TRAPPIST-1e</td>\n",
       "      <td>58.0</td>\n",
       "      <td>True</td>\n",
       "      <td>43.0</td>\n",
       "      <td>3576.0</td>\n",
       "      <td>0.0</td>\n",
       "      <td>6715.0</td>\n",
       "      <td>49.0</td>\n",
       "      <td>Altark Susent</td>\n",
       "      <td>False</td>\n",
       "    </tr>\n",
       "    <tr>\n",
       "      <th>3</th>\n",
       "      <td>0003_02</td>\n",
       "      <td>Europa</td>\n",
       "      <td>False</td>\n",
       "      <td>A/0/S</td>\n",
       "      <td>TRAPPIST-1e</td>\n",
       "      <td>33.0</td>\n",
       "      <td>False</td>\n",
       "      <td>0.0</td>\n",
       "      <td>1283.0</td>\n",
       "      <td>371.0</td>\n",
       "      <td>3329.0</td>\n",
       "      <td>193.0</td>\n",
       "      <td>Solam Susent</td>\n",
       "      <td>False</td>\n",
       "    </tr>\n",
       "    <tr>\n",
       "      <th>4</th>\n",
       "      <td>0004_01</td>\n",
       "      <td>Earth</td>\n",
       "      <td>False</td>\n",
       "      <td>F/1/S</td>\n",
       "      <td>TRAPPIST-1e</td>\n",
       "      <td>16.0</td>\n",
       "      <td>False</td>\n",
       "      <td>303.0</td>\n",
       "      <td>70.0</td>\n",
       "      <td>151.0</td>\n",
       "      <td>565.0</td>\n",
       "      <td>2.0</td>\n",
       "      <td>Willy Santantines</td>\n",
       "      <td>True</td>\n",
       "    </tr>\n",
       "    <tr>\n",
       "      <th>...</th>\n",
       "      <td>...</td>\n",
       "      <td>...</td>\n",
       "      <td>...</td>\n",
       "      <td>...</td>\n",
       "      <td>...</td>\n",
       "      <td>...</td>\n",
       "      <td>...</td>\n",
       "      <td>...</td>\n",
       "      <td>...</td>\n",
       "      <td>...</td>\n",
       "      <td>...</td>\n",
       "      <td>...</td>\n",
       "      <td>...</td>\n",
       "      <td>...</td>\n",
       "    </tr>\n",
       "    <tr>\n",
       "      <th>8688</th>\n",
       "      <td>9276_01</td>\n",
       "      <td>Europa</td>\n",
       "      <td>False</td>\n",
       "      <td>A/98/P</td>\n",
       "      <td>55 Cancri e</td>\n",
       "      <td>41.0</td>\n",
       "      <td>True</td>\n",
       "      <td>0.0</td>\n",
       "      <td>6819.0</td>\n",
       "      <td>0.0</td>\n",
       "      <td>1643.0</td>\n",
       "      <td>74.0</td>\n",
       "      <td>Gravior Noxnuther</td>\n",
       "      <td>False</td>\n",
       "    </tr>\n",
       "    <tr>\n",
       "      <th>8689</th>\n",
       "      <td>9278_01</td>\n",
       "      <td>Earth</td>\n",
       "      <td>True</td>\n",
       "      <td>G/1499/S</td>\n",
       "      <td>PSO J318.5-22</td>\n",
       "      <td>18.0</td>\n",
       "      <td>False</td>\n",
       "      <td>0.0</td>\n",
       "      <td>0.0</td>\n",
       "      <td>0.0</td>\n",
       "      <td>0.0</td>\n",
       "      <td>0.0</td>\n",
       "      <td>Kurta Mondalley</td>\n",
       "      <td>False</td>\n",
       "    </tr>\n",
       "    <tr>\n",
       "      <th>8690</th>\n",
       "      <td>9279_01</td>\n",
       "      <td>Earth</td>\n",
       "      <td>False</td>\n",
       "      <td>G/1500/S</td>\n",
       "      <td>TRAPPIST-1e</td>\n",
       "      <td>26.0</td>\n",
       "      <td>False</td>\n",
       "      <td>0.0</td>\n",
       "      <td>0.0</td>\n",
       "      <td>1872.0</td>\n",
       "      <td>1.0</td>\n",
       "      <td>0.0</td>\n",
       "      <td>Fayey Connon</td>\n",
       "      <td>True</td>\n",
       "    </tr>\n",
       "    <tr>\n",
       "      <th>8691</th>\n",
       "      <td>9280_01</td>\n",
       "      <td>Europa</td>\n",
       "      <td>False</td>\n",
       "      <td>E/608/S</td>\n",
       "      <td>55 Cancri e</td>\n",
       "      <td>32.0</td>\n",
       "      <td>False</td>\n",
       "      <td>0.0</td>\n",
       "      <td>1049.0</td>\n",
       "      <td>0.0</td>\n",
       "      <td>353.0</td>\n",
       "      <td>3235.0</td>\n",
       "      <td>Celeon Hontichre</td>\n",
       "      <td>False</td>\n",
       "    </tr>\n",
       "    <tr>\n",
       "      <th>8692</th>\n",
       "      <td>9280_02</td>\n",
       "      <td>Europa</td>\n",
       "      <td>False</td>\n",
       "      <td>E/608/S</td>\n",
       "      <td>TRAPPIST-1e</td>\n",
       "      <td>44.0</td>\n",
       "      <td>False</td>\n",
       "      <td>126.0</td>\n",
       "      <td>4688.0</td>\n",
       "      <td>0.0</td>\n",
       "      <td>0.0</td>\n",
       "      <td>12.0</td>\n",
       "      <td>Propsh Hontichre</td>\n",
       "      <td>True</td>\n",
       "    </tr>\n",
       "  </tbody>\n",
       "</table>\n",
       "<p>8693 rows × 14 columns</p>\n",
       "</div>"
      ],
      "text/plain": [
       "     PassengerId HomePlanet CryoSleep     Cabin    Destination   Age    VIP  \\\n",
       "0        0001_01     Europa     False     B/0/P    TRAPPIST-1e  39.0  False   \n",
       "1        0002_01      Earth     False     F/0/S    TRAPPIST-1e  24.0  False   \n",
       "2        0003_01     Europa     False     A/0/S    TRAPPIST-1e  58.0   True   \n",
       "3        0003_02     Europa     False     A/0/S    TRAPPIST-1e  33.0  False   \n",
       "4        0004_01      Earth     False     F/1/S    TRAPPIST-1e  16.0  False   \n",
       "...          ...        ...       ...       ...            ...   ...    ...   \n",
       "8688     9276_01     Europa     False    A/98/P    55 Cancri e  41.0   True   \n",
       "8689     9278_01      Earth      True  G/1499/S  PSO J318.5-22  18.0  False   \n",
       "8690     9279_01      Earth     False  G/1500/S    TRAPPIST-1e  26.0  False   \n",
       "8691     9280_01     Europa     False   E/608/S    55 Cancri e  32.0  False   \n",
       "8692     9280_02     Europa     False   E/608/S    TRAPPIST-1e  44.0  False   \n",
       "\n",
       "      RoomService  FoodCourt  ShoppingMall     Spa  VRDeck               Name  \\\n",
       "0             0.0        0.0           0.0     0.0     0.0    Maham Ofracculy   \n",
       "1           109.0        9.0          25.0   549.0    44.0       Juanna Vines   \n",
       "2            43.0     3576.0           0.0  6715.0    49.0      Altark Susent   \n",
       "3             0.0     1283.0         371.0  3329.0   193.0       Solam Susent   \n",
       "4           303.0       70.0         151.0   565.0     2.0  Willy Santantines   \n",
       "...           ...        ...           ...     ...     ...                ...   \n",
       "8688          0.0     6819.0           0.0  1643.0    74.0  Gravior Noxnuther   \n",
       "8689          0.0        0.0           0.0     0.0     0.0    Kurta Mondalley   \n",
       "8690          0.0        0.0        1872.0     1.0     0.0       Fayey Connon   \n",
       "8691          0.0     1049.0           0.0   353.0  3235.0   Celeon Hontichre   \n",
       "8692        126.0     4688.0           0.0     0.0    12.0   Propsh Hontichre   \n",
       "\n",
       "      Transported  \n",
       "0           False  \n",
       "1            True  \n",
       "2           False  \n",
       "3           False  \n",
       "4            True  \n",
       "...           ...  \n",
       "8688        False  \n",
       "8689        False  \n",
       "8690         True  \n",
       "8691        False  \n",
       "8692         True  \n",
       "\n",
       "[8693 rows x 14 columns]"
      ]
     },
     "metadata": {},
     "output_type": "display_data"
    }
   ],
   "source": [
    "display(df)"
   ]
  },
  {
   "cell_type": "markdown",
   "id": "85194851",
   "metadata": {},
   "source": [
    "Проверим на дубликаты"
   ]
  },
  {
   "cell_type": "code",
   "execution_count": 4,
   "id": "b143b48e",
   "metadata": {},
   "outputs": [
    {
     "data": {
      "text/plain": [
       "0"
      ]
     },
     "execution_count": 4,
     "metadata": {},
     "output_type": "execute_result"
    }
   ],
   "source": [
    "df.duplicated().sum()"
   ]
  },
  {
   "cell_type": "code",
   "execution_count": 5,
   "id": "cb6b1a21",
   "metadata": {
    "scrolled": false
   },
   "outputs": [
    {
     "name": "stdout",
     "output_type": "stream",
     "text": [
      "<class 'pandas.core.frame.DataFrame'>\n",
      "RangeIndex: 8693 entries, 0 to 8692\n",
      "Data columns (total 14 columns):\n",
      " #   Column        Non-Null Count  Dtype  \n",
      "---  ------        --------------  -----  \n",
      " 0   PassengerId   8693 non-null   object \n",
      " 1   HomePlanet    8492 non-null   object \n",
      " 2   CryoSleep     8476 non-null   object \n",
      " 3   Cabin         8494 non-null   object \n",
      " 4   Destination   8511 non-null   object \n",
      " 5   Age           8514 non-null   float64\n",
      " 6   VIP           8490 non-null   object \n",
      " 7   RoomService   8512 non-null   float64\n",
      " 8   FoodCourt     8510 non-null   float64\n",
      " 9   ShoppingMall  8485 non-null   float64\n",
      " 10  Spa           8510 non-null   float64\n",
      " 11  VRDeck        8505 non-null   float64\n",
      " 12  Name          8493 non-null   object \n",
      " 13  Transported   8693 non-null   bool   \n",
      "dtypes: bool(1), float64(6), object(7)\n",
      "memory usage: 891.5+ KB\n"
     ]
    }
   ],
   "source": [
    "df.info()"
   ]
  },
  {
   "cell_type": "markdown",
   "id": "efa51824",
   "metadata": {},
   "source": [
    "Доля пропусков в столбцах"
   ]
  },
  {
   "cell_type": "code",
   "execution_count": 6,
   "id": "e53736e1",
   "metadata": {
    "scrolled": false
   },
   "outputs": [
    {
     "data": {
      "text/plain": [
       "CryoSleep       2.496261\n",
       "ShoppingMall    2.392730\n",
       "VIP             2.335212\n",
       "HomePlanet      2.312205\n",
       "Name            2.300702\n",
       "Cabin           2.289198\n",
       "VRDeck          2.162660\n",
       "FoodCourt       2.105142\n",
       "Spa             2.105142\n",
       "Destination     2.093639\n",
       "RoomService     2.082135\n",
       "Age             2.059128\n",
       "dtype: float64"
      ]
     },
     "metadata": {},
     "output_type": "display_data"
    }
   ],
   "source": [
    "cols_null_percent = df.isnull().mean() * 100\n",
    "cols_with_null = cols_null_percent[cols_null_percent>0].sort_values(ascending=False)\n",
    "display(cols_with_null)"
   ]
  },
  {
   "cell_type": "code",
   "execution_count": 7,
   "id": "c99eaedc",
   "metadata": {},
   "outputs": [
    {
     "data": {
      "text/html": [
       "<div>\n",
       "<style scoped>\n",
       "    .dataframe tbody tr th:only-of-type {\n",
       "        vertical-align: middle;\n",
       "    }\n",
       "\n",
       "    .dataframe tbody tr th {\n",
       "        vertical-align: top;\n",
       "    }\n",
       "\n",
       "    .dataframe thead th {\n",
       "        text-align: right;\n",
       "    }\n",
       "</style>\n",
       "<table border=\"1\" class=\"dataframe\">\n",
       "  <thead>\n",
       "    <tr style=\"text-align: right;\">\n",
       "      <th></th>\n",
       "      <th>Age</th>\n",
       "      <th>RoomService</th>\n",
       "      <th>FoodCourt</th>\n",
       "      <th>ShoppingMall</th>\n",
       "      <th>Spa</th>\n",
       "      <th>VRDeck</th>\n",
       "    </tr>\n",
       "  </thead>\n",
       "  <tbody>\n",
       "    <tr>\n",
       "      <th>count</th>\n",
       "      <td>8514.000000</td>\n",
       "      <td>8512.000000</td>\n",
       "      <td>8510.000000</td>\n",
       "      <td>8485.000000</td>\n",
       "      <td>8510.000000</td>\n",
       "      <td>8505.000000</td>\n",
       "    </tr>\n",
       "    <tr>\n",
       "      <th>mean</th>\n",
       "      <td>28.827930</td>\n",
       "      <td>224.687617</td>\n",
       "      <td>458.077203</td>\n",
       "      <td>173.729169</td>\n",
       "      <td>311.138778</td>\n",
       "      <td>304.854791</td>\n",
       "    </tr>\n",
       "    <tr>\n",
       "      <th>std</th>\n",
       "      <td>14.489021</td>\n",
       "      <td>666.717663</td>\n",
       "      <td>1611.489240</td>\n",
       "      <td>604.696458</td>\n",
       "      <td>1136.705535</td>\n",
       "      <td>1145.717189</td>\n",
       "    </tr>\n",
       "    <tr>\n",
       "      <th>min</th>\n",
       "      <td>0.000000</td>\n",
       "      <td>0.000000</td>\n",
       "      <td>0.000000</td>\n",
       "      <td>0.000000</td>\n",
       "      <td>0.000000</td>\n",
       "      <td>0.000000</td>\n",
       "    </tr>\n",
       "    <tr>\n",
       "      <th>25%</th>\n",
       "      <td>19.000000</td>\n",
       "      <td>0.000000</td>\n",
       "      <td>0.000000</td>\n",
       "      <td>0.000000</td>\n",
       "      <td>0.000000</td>\n",
       "      <td>0.000000</td>\n",
       "    </tr>\n",
       "    <tr>\n",
       "      <th>50%</th>\n",
       "      <td>27.000000</td>\n",
       "      <td>0.000000</td>\n",
       "      <td>0.000000</td>\n",
       "      <td>0.000000</td>\n",
       "      <td>0.000000</td>\n",
       "      <td>0.000000</td>\n",
       "    </tr>\n",
       "    <tr>\n",
       "      <th>75%</th>\n",
       "      <td>38.000000</td>\n",
       "      <td>47.000000</td>\n",
       "      <td>76.000000</td>\n",
       "      <td>27.000000</td>\n",
       "      <td>59.000000</td>\n",
       "      <td>46.000000</td>\n",
       "    </tr>\n",
       "    <tr>\n",
       "      <th>max</th>\n",
       "      <td>79.000000</td>\n",
       "      <td>14327.000000</td>\n",
       "      <td>29813.000000</td>\n",
       "      <td>23492.000000</td>\n",
       "      <td>22408.000000</td>\n",
       "      <td>24133.000000</td>\n",
       "    </tr>\n",
       "  </tbody>\n",
       "</table>\n",
       "</div>"
      ],
      "text/plain": [
       "               Age   RoomService     FoodCourt  ShoppingMall           Spa  \\\n",
       "count  8514.000000   8512.000000   8510.000000   8485.000000   8510.000000   \n",
       "mean     28.827930    224.687617    458.077203    173.729169    311.138778   \n",
       "std      14.489021    666.717663   1611.489240    604.696458   1136.705535   \n",
       "min       0.000000      0.000000      0.000000      0.000000      0.000000   \n",
       "25%      19.000000      0.000000      0.000000      0.000000      0.000000   \n",
       "50%      27.000000      0.000000      0.000000      0.000000      0.000000   \n",
       "75%      38.000000     47.000000     76.000000     27.000000     59.000000   \n",
       "max      79.000000  14327.000000  29813.000000  23492.000000  22408.000000   \n",
       "\n",
       "             VRDeck  \n",
       "count   8505.000000  \n",
       "mean     304.854791  \n",
       "std     1145.717189  \n",
       "min        0.000000  \n",
       "25%        0.000000  \n",
       "50%        0.000000  \n",
       "75%       46.000000  \n",
       "max    24133.000000  "
      ]
     },
     "execution_count": 7,
     "metadata": {},
     "output_type": "execute_result"
    }
   ],
   "source": [
    "df.describe()"
   ]
  },
  {
   "cell_type": "code",
   "execution_count": 8,
   "id": "475a4413",
   "metadata": {
    "scrolled": true
   },
   "outputs": [
    {
     "data": {
      "text/html": [
       "<div>\n",
       "<style scoped>\n",
       "    .dataframe tbody tr th:only-of-type {\n",
       "        vertical-align: middle;\n",
       "    }\n",
       "\n",
       "    .dataframe tbody tr th {\n",
       "        vertical-align: top;\n",
       "    }\n",
       "\n",
       "    .dataframe thead th {\n",
       "        text-align: right;\n",
       "    }\n",
       "</style>\n",
       "<table border=\"1\" class=\"dataframe\">\n",
       "  <thead>\n",
       "    <tr style=\"text-align: right;\">\n",
       "      <th></th>\n",
       "      <th>PassengerId</th>\n",
       "      <th>HomePlanet</th>\n",
       "      <th>CryoSleep</th>\n",
       "      <th>Cabin</th>\n",
       "      <th>Destination</th>\n",
       "      <th>VIP</th>\n",
       "      <th>Name</th>\n",
       "    </tr>\n",
       "  </thead>\n",
       "  <tbody>\n",
       "    <tr>\n",
       "      <th>count</th>\n",
       "      <td>8693</td>\n",
       "      <td>8492</td>\n",
       "      <td>8476</td>\n",
       "      <td>8494</td>\n",
       "      <td>8511</td>\n",
       "      <td>8490</td>\n",
       "      <td>8493</td>\n",
       "    </tr>\n",
       "    <tr>\n",
       "      <th>unique</th>\n",
       "      <td>8693</td>\n",
       "      <td>3</td>\n",
       "      <td>2</td>\n",
       "      <td>6560</td>\n",
       "      <td>3</td>\n",
       "      <td>2</td>\n",
       "      <td>8473</td>\n",
       "    </tr>\n",
       "    <tr>\n",
       "      <th>top</th>\n",
       "      <td>0001_01</td>\n",
       "      <td>Earth</td>\n",
       "      <td>False</td>\n",
       "      <td>G/734/S</td>\n",
       "      <td>TRAPPIST-1e</td>\n",
       "      <td>False</td>\n",
       "      <td>Gollux Reedall</td>\n",
       "    </tr>\n",
       "    <tr>\n",
       "      <th>freq</th>\n",
       "      <td>1</td>\n",
       "      <td>4602</td>\n",
       "      <td>5439</td>\n",
       "      <td>8</td>\n",
       "      <td>5915</td>\n",
       "      <td>8291</td>\n",
       "      <td>2</td>\n",
       "    </tr>\n",
       "  </tbody>\n",
       "</table>\n",
       "</div>"
      ],
      "text/plain": [
       "       PassengerId HomePlanet CryoSleep    Cabin  Destination    VIP  \\\n",
       "count         8693       8492      8476     8494         8511   8490   \n",
       "unique        8693          3         2     6560            3      2   \n",
       "top        0001_01      Earth     False  G/734/S  TRAPPIST-1e  False   \n",
       "freq             1       4602      5439        8         5915   8291   \n",
       "\n",
       "                  Name  \n",
       "count             8493  \n",
       "unique            8473  \n",
       "top     Gollux Reedall  \n",
       "freq                 2  "
      ]
     },
     "execution_count": 8,
     "metadata": {},
     "output_type": "execute_result"
    }
   ],
   "source": [
    "df.describe(include=['object'])"
   ]
  },
  {
   "cell_type": "code",
   "execution_count": 9,
   "id": "9baae944",
   "metadata": {
    "scrolled": true
   },
   "outputs": [
    {
     "data": {
      "text/plain": [
       "Earth     4602\n",
       "Europa    2131\n",
       "Mars      1759\n",
       "Name: HomePlanet, dtype: int64"
      ]
     },
     "execution_count": 9,
     "metadata": {},
     "output_type": "execute_result"
    }
   ],
   "source": [
    "df['HomePlanet'].value_counts()"
   ]
  },
  {
   "cell_type": "code",
   "execution_count": 10,
   "id": "feb0c26b",
   "metadata": {},
   "outputs": [
    {
     "data": {
      "text/plain": [
       "False    5439\n",
       "True     3037\n",
       "Name: CryoSleep, dtype: int64"
      ]
     },
     "execution_count": 10,
     "metadata": {},
     "output_type": "execute_result"
    }
   ],
   "source": [
    "df['CryoSleep'].value_counts()"
   ]
  },
  {
   "cell_type": "code",
   "execution_count": 11,
   "id": "f07ee615",
   "metadata": {},
   "outputs": [
    {
     "data": {
      "text/plain": [
       "G/734/S     8\n",
       "G/109/P     7\n",
       "B/201/P     7\n",
       "G/1368/P    7\n",
       "G/981/S     7\n",
       "           ..\n",
       "G/556/P     1\n",
       "E/231/S     1\n",
       "G/545/S     1\n",
       "G/543/S     1\n",
       "F/947/P     1\n",
       "Name: Cabin, Length: 6560, dtype: int64"
      ]
     },
     "execution_count": 11,
     "metadata": {},
     "output_type": "execute_result"
    }
   ],
   "source": [
    "df['Cabin'].value_counts()"
   ]
  },
  {
   "cell_type": "code",
   "execution_count": 12,
   "id": "7ecdd636",
   "metadata": {
    "scrolled": true
   },
   "outputs": [
    {
     "data": {
      "text/plain": [
       "TRAPPIST-1e      5915\n",
       "55 Cancri e      1800\n",
       "PSO J318.5-22     796\n",
       "Name: Destination, dtype: int64"
      ]
     },
     "execution_count": 12,
     "metadata": {},
     "output_type": "execute_result"
    }
   ],
   "source": [
    "df['Destination'].value_counts()"
   ]
  },
  {
   "cell_type": "code",
   "execution_count": 13,
   "id": "e484a570",
   "metadata": {},
   "outputs": [
    {
     "data": {
      "text/plain": [
       "False    8291\n",
       "True      199\n",
       "Name: VIP, dtype: int64"
      ]
     },
     "execution_count": 13,
     "metadata": {},
     "output_type": "execute_result"
    }
   ],
   "source": [
    "df['VIP'].value_counts()"
   ]
  },
  {
   "cell_type": "code",
   "execution_count": 14,
   "id": "28bcf04a",
   "metadata": {
    "scrolled": false
   },
   "outputs": [
    {
     "data": {
      "text/plain": [
       "True     4378\n",
       "False    4315\n",
       "Name: Transported, dtype: int64"
      ]
     },
     "execution_count": 14,
     "metadata": {},
     "output_type": "execute_result"
    }
   ],
   "source": [
    "df['Transported'].value_counts()"
   ]
  },
  {
   "cell_type": "markdown",
   "id": "95939834",
   "metadata": {},
   "source": [
    "Посмотрим распределение данных относительно целеыого признака"
   ]
  },
  {
   "cell_type": "code",
   "execution_count": 15,
   "id": "e3d7809c",
   "metadata": {
    "scrolled": true
   },
   "outputs": [
    {
     "data": {
      "text/plain": [
       "<AxesSubplot: xlabel='Destination', ylabel='count'>"
      ]
     },
     "execution_count": 15,
     "metadata": {},
     "output_type": "execute_result"
    },
    {
     "data": {
      "image/png": "[encoded data removed]",
      "text/plain": [
       "<Figure size 1200x600 with 1 Axes>"
      ]
     },
     "metadata": {},
     "output_type": "display_data"
    }
   ],
   "source": [
    "plt.figure(figsize=(12, 6))\n",
    "sns.countplot(x='Destination', data=df, hue='Transported')"
   ]
  },
  {
   "cell_type": "code",
   "execution_count": 16,
   "id": "c23f8187",
   "metadata": {},
   "outputs": [
    {
     "data": {
      "text/plain": [
       "<AxesSubplot: xlabel='CryoSleep', ylabel='count'>"
      ]
     },
     "execution_count": 16,
     "metadata": {},
     "output_type": "execute_result"
    },
    {
     "data": {
      "image/png": "[encoded data removed]",
      "text/plain": [
       "<Figure size 1200x600 with 1 Axes>"
      ]
     },
     "metadata": {},
     "output_type": "display_data"
    }
   ],
   "source": [
    "plt.figure(figsize=(12, 6))\n",
    "sns.countplot(x='CryoSleep', data=df, hue='Transported')"
   ]
  },
  {
   "cell_type": "code",
   "execution_count": 17,
   "id": "409062a1",
   "metadata": {},
   "outputs": [
    {
     "data": {
      "text/plain": [
       "<AxesSubplot: xlabel='VIP', ylabel='count'>"
      ]
     },
     "execution_count": 17,
     "metadata": {},
     "output_type": "execute_result"
    },
    {
     "data": {
      "image/png": "[encoded data removed]",
      "text/plain": [
       "<Figure size 1200x600 with 1 Axes>"
      ]
     },
     "metadata": {},
     "output_type": "display_data"
    }
   ],
   "source": [
    "plt.figure(figsize=(12, 6))\n",
    "sns.countplot(x='VIP', data=df, hue='Transported')"
   ]
  },
  {
   "cell_type": "code",
   "execution_count": 18,
   "id": "94909d73",
   "metadata": {},
   "outputs": [
    {
     "data": {
      "text/plain": [
       "<AxesSubplot: xlabel='HomePlanet', ylabel='count'>"
      ]
     },
     "execution_count": 18,
     "metadata": {},
     "output_type": "execute_result"
    },
    {
     "data": {
      "image/png": "[encoded data removed]",
      "text/plain": [
       "<Figure size 1200x600 with 1 Axes>"
      ]
     },
     "metadata": {},
     "output_type": "display_data"
    }
   ],
   "source": [
    "plt.figure(figsize=(12, 6))\n",
    "sns.countplot(x='HomePlanet', data=df, hue='Transported')"
   ]
  },
  {
   "cell_type": "markdown",
   "id": "e467603b",
   "metadata": {},
   "source": [
    "# Преобразование признаков"
   ]
  },
  {
   "cell_type": "markdown",
   "id": "a33267eb",
   "metadata": {},
   "source": [
    "#### Признак Age"
   ]
  },
  {
   "cell_type": "code",
   "execution_count": 19,
   "id": "5f219640",
   "metadata": {},
   "outputs": [
    {
     "data": {
      "text/plain": [
       "24.0    324\n",
       "18.0    320\n",
       "21.0    311\n",
       "19.0    293\n",
       "23.0    292\n",
       "       ... \n",
       "72.0      4\n",
       "78.0      3\n",
       "79.0      3\n",
       "76.0      2\n",
       "77.0      2\n",
       "Name: Age, Length: 80, dtype: int64"
      ]
     },
     "execution_count": 19,
     "metadata": {},
     "output_type": "execute_result"
    }
   ],
   "source": [
    "df['Age'].value_counts()"
   ]
  },
  {
   "cell_type": "markdown",
   "id": "c4872530",
   "metadata": {},
   "source": [
    "#### Новый признак SpentMoney"
   ]
  },
  {
   "cell_type": "markdown",
   "id": "851699ac",
   "metadata": {},
   "source": [
    "Для начала заполним пропуски в составляющих признаках. Будем считать, что если  нет значения, то пассажир ничего не потратил на данное развлечение"
   ]
  },
  {
   "cell_type": "code",
   "execution_count": 20,
   "id": "50356a5b",
   "metadata": {},
   "outputs": [],
   "source": [
    "df['RoomService'] = df['RoomService'].fillna(0)\n",
    "df['FoodCourt'] = df['FoodCourt'].fillna(0)\n",
    "df['ShoppingMall'] = df['ShoppingMall'].fillna(0)\n",
    "df['Spa'] = df['Spa'].fillna(0)\n",
    "df['VRDeck'] = df['VRDeck'].fillna(0)"
   ]
  },
  {
   "cell_type": "markdown",
   "id": "2dfe9ebd",
   "metadata": {},
   "source": [
    "Создадим новый признак Spent_money, который содержит сумму, которую пассажир потратил на развлечения на корабле"
   ]
  },
  {
   "cell_type": "code",
   "execution_count": 21,
   "id": "e31b0bba",
   "metadata": {},
   "outputs": [],
   "source": [
    "df['SpentMoney'] = df['RoomService'] + df['FoodCourt'] + df['ShoppingMall'] + df['Spa'] + df['VRDeck']"
   ]
  },
  {
   "cell_type": "markdown",
   "id": "34dd4a04",
   "metadata": {},
   "source": [
    "После этого можно избавиться от столбцов RoomService, FoodCourt, ShoppingMall, Spa, VRDeck"
   ]
  },
  {
   "cell_type": "code",
   "execution_count": 22,
   "id": "3ce4f2bf",
   "metadata": {},
   "outputs": [],
   "source": [
    "df = df.drop(['RoomService', 'FoodCourt', 'ShoppingMall', 'Spa', 'VRDeck'], axis=1)"
   ]
  },
  {
   "cell_type": "markdown",
   "id": "d85c0a40",
   "metadata": {},
   "source": [
    "#### Признак Transported"
   ]
  },
  {
   "cell_type": "markdown",
   "id": "eedfa0b8",
   "metadata": {},
   "source": [
    "Обработаем столбец Transported. Заменим True и False на 1 и 0"
   ]
  },
  {
   "cell_type": "code",
   "execution_count": 23,
   "id": "53836b5b",
   "metadata": {},
   "outputs": [],
   "source": [
    "df.loc[df.Transported == False, 'Transported'] = 0\n",
    "df.loc[df.Transported == True, 'Transported'] = 1"
   ]
  },
  {
   "cell_type": "markdown",
   "id": "f7925fc6",
   "metadata": {},
   "source": [
    "#### Признак CryoSleep"
   ]
  },
  {
   "cell_type": "markdown",
   "id": "b2cf1307",
   "metadata": {},
   "source": [
    "Проверим, есть ли среди пассажиров с незаполненным параметром CryoSleep те, кто тратил деньги во время путешествия"
   ]
  },
  {
   "cell_type": "code",
   "execution_count": 24,
   "id": "cb70574a",
   "metadata": {
    "scrolled": false
   },
   "outputs": [
    {
     "data": {
      "text/html": [
       "<div>\n",
       "<style scoped>\n",
       "    .dataframe tbody tr th:only-of-type {\n",
       "        vertical-align: middle;\n",
       "    }\n",
       "\n",
       "    .dataframe tbody tr th {\n",
       "        vertical-align: top;\n",
       "    }\n",
       "\n",
       "    .dataframe thead th {\n",
       "        text-align: right;\n",
       "    }\n",
       "</style>\n",
       "<table border=\"1\" class=\"dataframe\">\n",
       "  <thead>\n",
       "    <tr style=\"text-align: right;\">\n",
       "      <th></th>\n",
       "      <th>CryoSleep</th>\n",
       "      <th>SpentMoney</th>\n",
       "    </tr>\n",
       "  </thead>\n",
       "  <tbody>\n",
       "    <tr>\n",
       "      <th>92</th>\n",
       "      <td>NaN</td>\n",
       "      <td>0.0</td>\n",
       "    </tr>\n",
       "    <tr>\n",
       "      <th>98</th>\n",
       "      <td>NaN</td>\n",
       "      <td>703.0</td>\n",
       "    </tr>\n",
       "    <tr>\n",
       "      <th>104</th>\n",
       "      <td>NaN</td>\n",
       "      <td>2018.0</td>\n",
       "    </tr>\n",
       "    <tr>\n",
       "      <th>111</th>\n",
       "      <td>NaN</td>\n",
       "      <td>0.0</td>\n",
       "    </tr>\n",
       "    <tr>\n",
       "      <th>152</th>\n",
       "      <td>NaN</td>\n",
       "      <td>990.0</td>\n",
       "    </tr>\n",
       "    <tr>\n",
       "      <th>...</th>\n",
       "      <td>...</td>\n",
       "      <td>...</td>\n",
       "    </tr>\n",
       "    <tr>\n",
       "      <th>8620</th>\n",
       "      <td>NaN</td>\n",
       "      <td>0.0</td>\n",
       "    </tr>\n",
       "    <tr>\n",
       "      <th>8651</th>\n",
       "      <td>NaN</td>\n",
       "      <td>0.0</td>\n",
       "    </tr>\n",
       "    <tr>\n",
       "      <th>8664</th>\n",
       "      <td>NaN</td>\n",
       "      <td>0.0</td>\n",
       "    </tr>\n",
       "    <tr>\n",
       "      <th>8675</th>\n",
       "      <td>NaN</td>\n",
       "      <td>2056.0</td>\n",
       "    </tr>\n",
       "    <tr>\n",
       "      <th>8687</th>\n",
       "      <td>NaN</td>\n",
       "      <td>3540.0</td>\n",
       "    </tr>\n",
       "  </tbody>\n",
       "</table>\n",
       "<p>217 rows × 2 columns</p>\n",
       "</div>"
      ],
      "text/plain": [
       "     CryoSleep  SpentMoney\n",
       "92         NaN         0.0\n",
       "98         NaN       703.0\n",
       "104        NaN      2018.0\n",
       "111        NaN         0.0\n",
       "152        NaN       990.0\n",
       "...        ...         ...\n",
       "8620       NaN         0.0\n",
       "8651       NaN         0.0\n",
       "8664       NaN         0.0\n",
       "8675       NaN      2056.0\n",
       "8687       NaN      3540.0\n",
       "\n",
       "[217 rows x 2 columns]"
      ]
     },
     "execution_count": 24,
     "metadata": {},
     "output_type": "execute_result"
    }
   ],
   "source": [
    "df[df['CryoSleep'].isnull()==True][['CryoSleep','SpentMoney']]"
   ]
  },
  {
   "cell_type": "markdown",
   "id": "7e1ad349",
   "metadata": {},
   "source": [
    "Такие есть. Очевидно, что пассажиры, погруженные в сон во время рейса, не могут платить деньги за развлечения, поэтому заполним пропущенные значения в соответствии с этим наблюдением"
   ]
  },
  {
   "cell_type": "code",
   "execution_count": 25,
   "id": "cd886a8d",
   "metadata": {},
   "outputs": [],
   "source": [
    "df.loc[((df['CryoSleep'].isnull()==True) & (df.SpentMoney>0)), 'CryoSleep'] = 0\n",
    "df.loc[((df['CryoSleep'].isnull()==True) & (df.SpentMoney==0)), 'CryoSleep'] = 1"
   ]
  },
  {
   "cell_type": "markdown",
   "id": "261890f2",
   "metadata": {},
   "source": [
    "Обработаем столбец CryoSleep. Заменим True и False на 1 и 0"
   ]
  },
  {
   "cell_type": "code",
   "execution_count": 26,
   "id": "1650c185",
   "metadata": {},
   "outputs": [],
   "source": [
    "df.loc[df.CryoSleep == False, 'CryoSleep'] = 0\n",
    "df.loc[df.CryoSleep == True, 'CryoSleep'] = 1"
   ]
  },
  {
   "cell_type": "markdown",
   "id": "1cc369b4",
   "metadata": {},
   "source": [
    "#### Признак VIP"
   ]
  },
  {
   "cell_type": "markdown",
   "id": "b42bb560",
   "metadata": {},
   "source": [
    "Обработаем столбец VIP. Заменим True и False на 1 и 0"
   ]
  },
  {
   "cell_type": "code",
   "execution_count": 27,
   "id": "9f151741",
   "metadata": {},
   "outputs": [],
   "source": [
    "df.loc[df.VIP == False, 'VIP'] = 0\n",
    "df.loc[df.VIP == True, 'VIP'] = 1"
   ]
  },
  {
   "cell_type": "markdown",
   "id": "49c6592c",
   "metadata": {},
   "source": [
    "#### Признак HomePlanet"
   ]
  },
  {
   "cell_type": "markdown",
   "id": "2b279640",
   "metadata": {},
   "source": [
    "Заполним пропуски в столбце"
   ]
  },
  {
   "cell_type": "code",
   "execution_count": 28,
   "id": "f95611e8",
   "metadata": {},
   "outputs": [],
   "source": [
    "df['HomePlanet'] = df['HomePlanet'].fillna('Europa')"
   ]
  },
  {
   "cell_type": "markdown",
   "id": "fb04eea3",
   "metadata": {},
   "source": [
    "Обработаем столбец HomePlanet. Заменим True и False на 1 и 0"
   ]
  },
  {
   "cell_type": "code",
   "execution_count": 29,
   "id": "40b82b66",
   "metadata": {},
   "outputs": [],
   "source": [
    "df.loc[df.HomePlanet == 'Earth', 'HomePlanet'] = 1\n",
    "df.loc[df.HomePlanet == 'Europa', 'HomePlanet'] = 2\n",
    "df.loc[df.HomePlanet == 'Mars', 'HomePlanet'] = 3"
   ]
  },
  {
   "cell_type": "markdown",
   "id": "e9a009e9",
   "metadata": {},
   "source": [
    "#### Признак Destination"
   ]
  },
  {
   "cell_type": "markdown",
   "id": "b01156b4",
   "metadata": {},
   "source": [
    "Обработаем столбец Destination. Заменим True и False на 1 и 0"
   ]
  },
  {
   "cell_type": "code",
   "execution_count": 30,
   "id": "d7246cf8",
   "metadata": {},
   "outputs": [],
   "source": [
    "df.loc[df.Destination == 'TRAPPIST-1e', 'Destination'] = 1\n",
    "df.loc[df.Destination == '55 Cancri e', 'Destination'] = 2\n",
    "df.loc[df.Destination == 'PSO J318.5-22', 'Destination'] = 3"
   ]
  },
  {
   "cell_type": "markdown",
   "id": "40568338",
   "metadata": {},
   "source": [
    "#### Признак Cabin"
   ]
  },
  {
   "cell_type": "markdown",
   "id": "bf78602d",
   "metadata": {},
   "source": [
    "Выведем из признака Cabin новый признак, показывающий, на левом или правом борту находится пассажир"
   ]
  },
  {
   "cell_type": "code",
   "execution_count": 31,
   "id": "a03c09e1",
   "metadata": {},
   "outputs": [],
   "source": [
    "# функция для вывода борта по номеру кабины\n",
    "def def_side(Cabin):       \n",
    "    if str(Cabin)[-1]=='S':\n",
    "        return 1\n",
    "    else:\n",
    "        return 2 "
   ]
  },
  {
   "cell_type": "code",
   "execution_count": 32,
   "id": "7f8efa40",
   "metadata": {},
   "outputs": [],
   "source": [
    "df['Side'] = df['Cabin'].apply(def_side)   "
   ]
  },
  {
   "cell_type": "markdown",
   "id": "38119555",
   "metadata": {},
   "source": [
    "Выведем из признака Cabin новый признак содержащий литерал кабины"
   ]
  },
  {
   "cell_type": "code",
   "execution_count": 33,
   "id": "02de5d0a",
   "metadata": {},
   "outputs": [],
   "source": [
    "# функция для вывода литерала по номеру кабины G/1499/S\n",
    "def def_literal(Cabin):\n",
    "    return str(Cabin)[0]"
   ]
  },
  {
   "cell_type": "code",
   "execution_count": 34,
   "id": "c6a6e597",
   "metadata": {},
   "outputs": [],
   "source": [
    "df['Cabin_literal'] = df['Cabin'].apply(def_literal)   "
   ]
  },
  {
   "cell_type": "markdown",
   "id": "e57a6510",
   "metadata": {},
   "source": [
    "Проверим, какие вариации значений мы получили"
   ]
  },
  {
   "cell_type": "code",
   "execution_count": 35,
   "id": "3952e0fa",
   "metadata": {
    "scrolled": false
   },
   "outputs": [
    {
     "data": {
      "text/plain": [
       "F    2794\n",
       "G    2559\n",
       "E     876\n",
       "B     779\n",
       "C     747\n",
       "D     478\n",
       "A     256\n",
       "n     199\n",
       "T       5\n",
       "Name: Cabin_literal, dtype: int64"
      ]
     },
     "execution_count": 35,
     "metadata": {},
     "output_type": "execute_result"
    }
   ],
   "source": [
    "df['Cabin_literal'].value_counts()"
   ]
  },
  {
   "cell_type": "markdown",
   "id": "ea8ae6e0",
   "metadata": {},
   "source": [
    "Обработаем столбец Cabin_literal. Заменим буквенные значения на численные"
   ]
  },
  {
   "cell_type": "code",
   "execution_count": 36,
   "id": "829f041e",
   "metadata": {},
   "outputs": [],
   "source": [
    "df.loc[df.Cabin_literal == 'A', 'Cabin_literal'] = 1\n",
    "df.loc[df.Cabin_literal == 'B', 'Cabin_literal'] = 2\n",
    "df.loc[df.Cabin_literal == 'C', 'Cabin_literal'] = 3\n",
    "df.loc[df.Cabin_literal == 'D', 'Cabin_literal'] = 4\n",
    "df.loc[df.Cabin_literal == 'E', 'Cabin_literal'] = 5\n",
    "df.loc[df.Cabin_literal == 'F', 'Cabin_literal'] = 6\n",
    "df.loc[df.Cabin_literal == 'G', 'Cabin_literal'] = 7\n",
    "df.loc[df.Cabin_literal == 'T', 'Cabin_literal'] = 8\n",
    "df.loc[df.Cabin_literal == 'n', 'Cabin_literal'] = 9"
   ]
  },
  {
   "cell_type": "markdown",
   "id": "8b4fa1a2",
   "metadata": {},
   "source": [
    "Мы вытащили всю информацию из признака Cabin, можем удалить столбец"
   ]
  },
  {
   "cell_type": "code",
   "execution_count": 37,
   "id": "16c9f9c0",
   "metadata": {},
   "outputs": [],
   "source": [
    "df = df.drop(['Cabin'], axis=1)"
   ]
  },
  {
   "cell_type": "markdown",
   "id": "5c77ae2e",
   "metadata": {},
   "source": [
    "#### Признак PassengerId"
   ]
  },
  {
   "cell_type": "markdown",
   "id": "7d6858ad",
   "metadata": {},
   "source": [
    "Из столбца PassengerId выведем количество человек в группе "
   ]
  },
  {
   "cell_type": "code",
   "execution_count": 38,
   "id": "0432f5d5",
   "metadata": {},
   "outputs": [],
   "source": [
    "# функция для вывода порядкового номера человека в группе\n",
    "def people_count(PassengerId):\n",
    "    return int(PassengerId[-1])"
   ]
  },
  {
   "cell_type": "code",
   "execution_count": 39,
   "id": "1e970381",
   "metadata": {},
   "outputs": [],
   "source": [
    "df['PeopleCount'] = df['PassengerId'].apply(people_count)"
   ]
  },
  {
   "cell_type": "markdown",
   "id": "524955c6",
   "metadata": {},
   "source": [
    "Для удобства добавим столбец NumGroup c номером группы"
   ]
  },
  {
   "cell_type": "code",
   "execution_count": 40,
   "id": "f2de9668",
   "metadata": {},
   "outputs": [],
   "source": [
    "def num_group(PassengerId):\n",
    "    return int(PassengerId[0:4])"
   ]
  },
  {
   "cell_type": "code",
   "execution_count": 41,
   "id": "91d4b196",
   "metadata": {},
   "outputs": [],
   "source": [
    "df['NumGroup']=df['PassengerId'].apply(num_group)"
   ]
  },
  {
   "cell_type": "markdown",
   "id": "c57376ee",
   "metadata": {},
   "source": [
    "Проверим правильность нашего предположения о количестве родственников"
   ]
  },
  {
   "cell_type": "code",
   "execution_count": 42,
   "id": "4fb11993",
   "metadata": {},
   "outputs": [],
   "source": [
    "df['PeopleCount'] = df['PeopleCount'].astype('int64')"
   ]
  },
  {
   "cell_type": "code",
   "execution_count": 43,
   "id": "06c15c1d",
   "metadata": {
    "scrolled": false
   },
   "outputs": [
    {
     "data": {
      "text/html": [
       "<div>\n",
       "<style scoped>\n",
       "    .dataframe tbody tr th:only-of-type {\n",
       "        vertical-align: middle;\n",
       "    }\n",
       "\n",
       "    .dataframe tbody tr th {\n",
       "        vertical-align: top;\n",
       "    }\n",
       "\n",
       "    .dataframe thead th {\n",
       "        text-align: right;\n",
       "    }\n",
       "</style>\n",
       "<table border=\"1\" class=\"dataframe\">\n",
       "  <thead>\n",
       "    <tr style=\"text-align: right;\">\n",
       "      <th></th>\n",
       "      <th>PassengerId</th>\n",
       "      <th>Name</th>\n",
       "      <th>PeopleCount</th>\n",
       "      <th>NumGroup</th>\n",
       "    </tr>\n",
       "  </thead>\n",
       "  <tbody>\n",
       "    <tr>\n",
       "      <th>917</th>\n",
       "      <td>0984_08</td>\n",
       "      <td>Alancy Flemaney</td>\n",
       "      <td>8</td>\n",
       "      <td>984</td>\n",
       "    </tr>\n",
       "    <tr>\n",
       "      <th>3743</th>\n",
       "      <td>4005_08</td>\n",
       "      <td>NaN</td>\n",
       "      <td>8</td>\n",
       "      <td>4005</td>\n",
       "    </tr>\n",
       "    <tr>\n",
       "      <th>3995</th>\n",
       "      <td>4256_08</td>\n",
       "      <td>Gerte Garnes</td>\n",
       "      <td>8</td>\n",
       "      <td>4256</td>\n",
       "    </tr>\n",
       "    <tr>\n",
       "      <th>4228</th>\n",
       "      <td>4498_08</td>\n",
       "      <td>Kendy Munozanson</td>\n",
       "      <td>8</td>\n",
       "      <td>4498</td>\n",
       "    </tr>\n",
       "    <tr>\n",
       "      <th>4815</th>\n",
       "      <td>5133_08</td>\n",
       "      <td>Lawren Josey</td>\n",
       "      <td>8</td>\n",
       "      <td>5133</td>\n",
       "    </tr>\n",
       "    <tr>\n",
       "      <th>5392</th>\n",
       "      <td>5756_08</td>\n",
       "      <td>Wenise Briggston</td>\n",
       "      <td>8</td>\n",
       "      <td>5756</td>\n",
       "    </tr>\n",
       "    <tr>\n",
       "      <th>5520</th>\n",
       "      <td>5885_08</td>\n",
       "      <td>Fayene Oneiles</td>\n",
       "      <td>8</td>\n",
       "      <td>5885</td>\n",
       "    </tr>\n",
       "    <tr>\n",
       "      <th>7660</th>\n",
       "      <td>8168_08</td>\n",
       "      <td>Ryanne Boyers</td>\n",
       "      <td>8</td>\n",
       "      <td>8168</td>\n",
       "    </tr>\n",
       "    <tr>\n",
       "      <th>8169</th>\n",
       "      <td>8728_08</td>\n",
       "      <td>Franda Fulloydez</td>\n",
       "      <td>8</td>\n",
       "      <td>8728</td>\n",
       "    </tr>\n",
       "    <tr>\n",
       "      <th>8235</th>\n",
       "      <td>8796_08</td>\n",
       "      <td>Dondy Traverdy</td>\n",
       "      <td>8</td>\n",
       "      <td>8796</td>\n",
       "    </tr>\n",
       "    <tr>\n",
       "      <th>8378</th>\n",
       "      <td>8956_08</td>\n",
       "      <td>Harvin Bonnondry</td>\n",
       "      <td>8</td>\n",
       "      <td>8956</td>\n",
       "    </tr>\n",
       "    <tr>\n",
       "      <th>8414</th>\n",
       "      <td>8988_08</td>\n",
       "      <td>Neila Fowlesterez</td>\n",
       "      <td>8</td>\n",
       "      <td>8988</td>\n",
       "    </tr>\n",
       "    <tr>\n",
       "      <th>8514</th>\n",
       "      <td>9081_08</td>\n",
       "      <td>Virgie Clemondsey</td>\n",
       "      <td>8</td>\n",
       "      <td>9081</td>\n",
       "    </tr>\n",
       "  </tbody>\n",
       "</table>\n",
       "</div>"
      ],
      "text/plain": [
       "     PassengerId               Name  PeopleCount  NumGroup\n",
       "917      0984_08    Alancy Flemaney            8       984\n",
       "3743     4005_08                NaN            8      4005\n",
       "3995     4256_08       Gerte Garnes            8      4256\n",
       "4228     4498_08   Kendy Munozanson            8      4498\n",
       "4815     5133_08       Lawren Josey            8      5133\n",
       "5392     5756_08   Wenise Briggston            8      5756\n",
       "5520     5885_08     Fayene Oneiles            8      5885\n",
       "7660     8168_08      Ryanne Boyers            8      8168\n",
       "8169     8728_08   Franda Fulloydez            8      8728\n",
       "8235     8796_08     Dondy Traverdy            8      8796\n",
       "8378     8956_08   Harvin Bonnondry            8      8956\n",
       "8414     8988_08  Neila Fowlesterez            8      8988\n",
       "8514     9081_08  Virgie Clemondsey            8      9081"
      ]
     },
     "execution_count": 43,
     "metadata": {},
     "output_type": "execute_result"
    }
   ],
   "source": [
    "df[df['PeopleCount']==8][['PassengerId','Name','PeopleCount','NumGroup']]\n"
   ]
  },
  {
   "cell_type": "code",
   "execution_count": 44,
   "id": "80c6adcc",
   "metadata": {
    "scrolled": false
   },
   "outputs": [
    {
     "data": {
      "text/html": [
       "<div>\n",
       "<style scoped>\n",
       "    .dataframe tbody tr th:only-of-type {\n",
       "        vertical-align: middle;\n",
       "    }\n",
       "\n",
       "    .dataframe tbody tr th {\n",
       "        vertical-align: top;\n",
       "    }\n",
       "\n",
       "    .dataframe thead th {\n",
       "        text-align: right;\n",
       "    }\n",
       "</style>\n",
       "<table border=\"1\" class=\"dataframe\">\n",
       "  <thead>\n",
       "    <tr style=\"text-align: right;\">\n",
       "      <th></th>\n",
       "      <th>PassengerId</th>\n",
       "      <th>Name</th>\n",
       "      <th>PeopleCount</th>\n",
       "      <th>NumGroup</th>\n",
       "    </tr>\n",
       "  </thead>\n",
       "  <tbody>\n",
       "    <tr>\n",
       "      <th>8507</th>\n",
       "      <td>9081_01</td>\n",
       "      <td>Hanna Clemondsey</td>\n",
       "      <td>1</td>\n",
       "      <td>9081</td>\n",
       "    </tr>\n",
       "    <tr>\n",
       "      <th>8508</th>\n",
       "      <td>9081_02</td>\n",
       "      <td>Willah Clemondsey</td>\n",
       "      <td>2</td>\n",
       "      <td>9081</td>\n",
       "    </tr>\n",
       "    <tr>\n",
       "      <th>8509</th>\n",
       "      <td>9081_03</td>\n",
       "      <td>Beula Clemondsey</td>\n",
       "      <td>3</td>\n",
       "      <td>9081</td>\n",
       "    </tr>\n",
       "    <tr>\n",
       "      <th>8510</th>\n",
       "      <td>9081_04</td>\n",
       "      <td>NaN</td>\n",
       "      <td>4</td>\n",
       "      <td>9081</td>\n",
       "    </tr>\n",
       "    <tr>\n",
       "      <th>8511</th>\n",
       "      <td>9081_05</td>\n",
       "      <td>Haryn Clemondsey</td>\n",
       "      <td>5</td>\n",
       "      <td>9081</td>\n",
       "    </tr>\n",
       "    <tr>\n",
       "      <th>8512</th>\n",
       "      <td>9081_06</td>\n",
       "      <td>Daryla Clemondsey</td>\n",
       "      <td>6</td>\n",
       "      <td>9081</td>\n",
       "    </tr>\n",
       "    <tr>\n",
       "      <th>8513</th>\n",
       "      <td>9081_07</td>\n",
       "      <td>Aliey Clemondsey</td>\n",
       "      <td>7</td>\n",
       "      <td>9081</td>\n",
       "    </tr>\n",
       "    <tr>\n",
       "      <th>8514</th>\n",
       "      <td>9081_08</td>\n",
       "      <td>Virgie Clemondsey</td>\n",
       "      <td>8</td>\n",
       "      <td>9081</td>\n",
       "    </tr>\n",
       "  </tbody>\n",
       "</table>\n",
       "</div>"
      ],
      "text/plain": [
       "     PassengerId               Name  PeopleCount  NumGroup\n",
       "8507     9081_01   Hanna Clemondsey            1      9081\n",
       "8508     9081_02  Willah Clemondsey            2      9081\n",
       "8509     9081_03   Beula Clemondsey            3      9081\n",
       "8510     9081_04                NaN            4      9081\n",
       "8511     9081_05   Haryn Clemondsey            5      9081\n",
       "8512     9081_06  Daryla Clemondsey            6      9081\n",
       "8513     9081_07   Aliey Clemondsey            7      9081\n",
       "8514     9081_08  Virgie Clemondsey            8      9081"
      ]
     },
     "execution_count": 44,
     "metadata": {},
     "output_type": "execute_result"
    }
   ],
   "source": [
    "df[df['NumGroup']==9081][['PassengerId','Name','PeopleCount','NumGroup']]"
   ]
  },
  {
   "cell_type": "code",
   "execution_count": 45,
   "id": "861442a6",
   "metadata": {
    "scrolled": true
   },
   "outputs": [
    {
     "data": {
      "text/html": [
       "<div>\n",
       "<style scoped>\n",
       "    .dataframe tbody tr th:only-of-type {\n",
       "        vertical-align: middle;\n",
       "    }\n",
       "\n",
       "    .dataframe tbody tr th {\n",
       "        vertical-align: top;\n",
       "    }\n",
       "\n",
       "    .dataframe thead th {\n",
       "        text-align: right;\n",
       "    }\n",
       "</style>\n",
       "<table border=\"1\" class=\"dataframe\">\n",
       "  <thead>\n",
       "    <tr style=\"text-align: right;\">\n",
       "      <th></th>\n",
       "      <th>PassengerId</th>\n",
       "      <th>Name</th>\n",
       "      <th>PeopleCount</th>\n",
       "      <th>NumGroup</th>\n",
       "    </tr>\n",
       "  </thead>\n",
       "  <tbody>\n",
       "    <tr>\n",
       "      <th>8407</th>\n",
       "      <td>8988_01</td>\n",
       "      <td>Maen Fowlesterez</td>\n",
       "      <td>1</td>\n",
       "      <td>8988</td>\n",
       "    </tr>\n",
       "    <tr>\n",
       "      <th>8408</th>\n",
       "      <td>8988_02</td>\n",
       "      <td>Idacey Fowlesterez</td>\n",
       "      <td>2</td>\n",
       "      <td>8988</td>\n",
       "    </tr>\n",
       "    <tr>\n",
       "      <th>8409</th>\n",
       "      <td>8988_03</td>\n",
       "      <td>Catha Fowlesterez</td>\n",
       "      <td>3</td>\n",
       "      <td>8988</td>\n",
       "    </tr>\n",
       "    <tr>\n",
       "      <th>8410</th>\n",
       "      <td>8988_04</td>\n",
       "      <td>Joanry Malliamsey</td>\n",
       "      <td>4</td>\n",
       "      <td>8988</td>\n",
       "    </tr>\n",
       "    <tr>\n",
       "      <th>8411</th>\n",
       "      <td>8988_05</td>\n",
       "      <td>Melara Fowlesterez</td>\n",
       "      <td>5</td>\n",
       "      <td>8988</td>\n",
       "    </tr>\n",
       "    <tr>\n",
       "      <th>8412</th>\n",
       "      <td>8988_06</td>\n",
       "      <td>Caseye Fowlesterez</td>\n",
       "      <td>6</td>\n",
       "      <td>8988</td>\n",
       "    </tr>\n",
       "    <tr>\n",
       "      <th>8413</th>\n",
       "      <td>8988_07</td>\n",
       "      <td>Heila Malliamsey</td>\n",
       "      <td>7</td>\n",
       "      <td>8988</td>\n",
       "    </tr>\n",
       "    <tr>\n",
       "      <th>8414</th>\n",
       "      <td>8988_08</td>\n",
       "      <td>Neila Fowlesterez</td>\n",
       "      <td>8</td>\n",
       "      <td>8988</td>\n",
       "    </tr>\n",
       "  </tbody>\n",
       "</table>\n",
       "</div>"
      ],
      "text/plain": [
       "     PassengerId                Name  PeopleCount  NumGroup\n",
       "8407     8988_01    Maen Fowlesterez            1      8988\n",
       "8408     8988_02  Idacey Fowlesterez            2      8988\n",
       "8409     8988_03   Catha Fowlesterez            3      8988\n",
       "8410     8988_04   Joanry Malliamsey            4      8988\n",
       "8411     8988_05  Melara Fowlesterez            5      8988\n",
       "8412     8988_06  Caseye Fowlesterez            6      8988\n",
       "8413     8988_07    Heila Malliamsey            7      8988\n",
       "8414     8988_08   Neila Fowlesterez            8      8988"
      ]
     },
     "execution_count": 45,
     "metadata": {},
     "output_type": "execute_result"
    }
   ],
   "source": [
    "df[df['NumGroup']==8988][['PassengerId','Name','PeopleCount','NumGroup']]"
   ]
  },
  {
   "cell_type": "markdown",
   "id": "bdcc0fee",
   "metadata": {},
   "source": [
    "Мы видим, что в рамках одной группы часто путешествуют однофамильцы, но не всегда. Поэтому выведем 2 признака - количество человек в группе и количество человек в семье"
   ]
  },
  {
   "cell_type": "code",
   "execution_count": 46,
   "id": "90c3527e",
   "metadata": {},
   "outputs": [],
   "source": [
    "# Временно добавим столбец с индексом\n",
    "df['index'] = df.index"
   ]
  },
  {
   "cell_type": "code",
   "execution_count": 47,
   "id": "8969cb3d",
   "metadata": {},
   "outputs": [],
   "source": [
    "# Заменяем в признаке PeopleCount порядковый номер в группе на количество человек в группе\n",
    "for i in df['index'].values:\n",
    "    num_group = int(df[df['index']==i][['NumGroup']].values)\n",
    "    one_group = df[df['NumGroup']==num_group][['PassengerId','Name','PeopleCount','NumGroup']]\n",
    "    people_count = one_group['PeopleCount'].max()\n",
    "    df.loc[((df.PeopleCount != people_count) & (df.NumGroup == num_group)), 'PeopleCount'] = people_count"
   ]
  },
  {
   "cell_type": "code",
   "execution_count": 48,
   "id": "ce8accb1",
   "metadata": {
    "scrolled": false
   },
   "outputs": [
    {
     "data": {
      "text/html": [
       "<div>\n",
       "<style scoped>\n",
       "    .dataframe tbody tr th:only-of-type {\n",
       "        vertical-align: middle;\n",
       "    }\n",
       "\n",
       "    .dataframe tbody tr th {\n",
       "        vertical-align: top;\n",
       "    }\n",
       "\n",
       "    .dataframe thead th {\n",
       "        text-align: right;\n",
       "    }\n",
       "</style>\n",
       "<table border=\"1\" class=\"dataframe\">\n",
       "  <thead>\n",
       "    <tr style=\"text-align: right;\">\n",
       "      <th></th>\n",
       "      <th>PassengerId</th>\n",
       "      <th>HomePlanet</th>\n",
       "      <th>CryoSleep</th>\n",
       "      <th>Destination</th>\n",
       "      <th>Age</th>\n",
       "      <th>VIP</th>\n",
       "      <th>Name</th>\n",
       "      <th>Transported</th>\n",
       "      <th>SpentMoney</th>\n",
       "      <th>Side</th>\n",
       "      <th>Cabin_literal</th>\n",
       "      <th>PeopleCount</th>\n",
       "      <th>NumGroup</th>\n",
       "      <th>index</th>\n",
       "    </tr>\n",
       "  </thead>\n",
       "  <tbody>\n",
       "    <tr>\n",
       "      <th>0</th>\n",
       "      <td>0001_01</td>\n",
       "      <td>2</td>\n",
       "      <td>0</td>\n",
       "      <td>1</td>\n",
       "      <td>39.0</td>\n",
       "      <td>0</td>\n",
       "      <td>Maham Ofracculy</td>\n",
       "      <td>0</td>\n",
       "      <td>0.0</td>\n",
       "      <td>2</td>\n",
       "      <td>2</td>\n",
       "      <td>1</td>\n",
       "      <td>1</td>\n",
       "      <td>0</td>\n",
       "    </tr>\n",
       "    <tr>\n",
       "      <th>1</th>\n",
       "      <td>0002_01</td>\n",
       "      <td>1</td>\n",
       "      <td>0</td>\n",
       "      <td>1</td>\n",
       "      <td>24.0</td>\n",
       "      <td>0</td>\n",
       "      <td>Juanna Vines</td>\n",
       "      <td>1</td>\n",
       "      <td>736.0</td>\n",
       "      <td>1</td>\n",
       "      <td>6</td>\n",
       "      <td>1</td>\n",
       "      <td>2</td>\n",
       "      <td>1</td>\n",
       "    </tr>\n",
       "    <tr>\n",
       "      <th>2</th>\n",
       "      <td>0003_01</td>\n",
       "      <td>2</td>\n",
       "      <td>0</td>\n",
       "      <td>1</td>\n",
       "      <td>58.0</td>\n",
       "      <td>1</td>\n",
       "      <td>Altark Susent</td>\n",
       "      <td>0</td>\n",
       "      <td>10383.0</td>\n",
       "      <td>1</td>\n",
       "      <td>1</td>\n",
       "      <td>2</td>\n",
       "      <td>3</td>\n",
       "      <td>2</td>\n",
       "    </tr>\n",
       "    <tr>\n",
       "      <th>3</th>\n",
       "      <td>0003_02</td>\n",
       "      <td>2</td>\n",
       "      <td>0</td>\n",
       "      <td>1</td>\n",
       "      <td>33.0</td>\n",
       "      <td>0</td>\n",
       "      <td>Solam Susent</td>\n",
       "      <td>0</td>\n",
       "      <td>5176.0</td>\n",
       "      <td>1</td>\n",
       "      <td>1</td>\n",
       "      <td>2</td>\n",
       "      <td>3</td>\n",
       "      <td>3</td>\n",
       "    </tr>\n",
       "    <tr>\n",
       "      <th>4</th>\n",
       "      <td>0004_01</td>\n",
       "      <td>1</td>\n",
       "      <td>0</td>\n",
       "      <td>1</td>\n",
       "      <td>16.0</td>\n",
       "      <td>0</td>\n",
       "      <td>Willy Santantines</td>\n",
       "      <td>1</td>\n",
       "      <td>1091.0</td>\n",
       "      <td>1</td>\n",
       "      <td>6</td>\n",
       "      <td>1</td>\n",
       "      <td>4</td>\n",
       "      <td>4</td>\n",
       "    </tr>\n",
       "    <tr>\n",
       "      <th>5</th>\n",
       "      <td>0005_01</td>\n",
       "      <td>1</td>\n",
       "      <td>0</td>\n",
       "      <td>3</td>\n",
       "      <td>44.0</td>\n",
       "      <td>0</td>\n",
       "      <td>Sandie Hinetthews</td>\n",
       "      <td>1</td>\n",
       "      <td>774.0</td>\n",
       "      <td>2</td>\n",
       "      <td>6</td>\n",
       "      <td>1</td>\n",
       "      <td>5</td>\n",
       "      <td>5</td>\n",
       "    </tr>\n",
       "    <tr>\n",
       "      <th>6</th>\n",
       "      <td>0006_01</td>\n",
       "      <td>1</td>\n",
       "      <td>0</td>\n",
       "      <td>1</td>\n",
       "      <td>26.0</td>\n",
       "      <td>0</td>\n",
       "      <td>Billex Jacostaffey</td>\n",
       "      <td>1</td>\n",
       "      <td>1584.0</td>\n",
       "      <td>1</td>\n",
       "      <td>6</td>\n",
       "      <td>2</td>\n",
       "      <td>6</td>\n",
       "      <td>6</td>\n",
       "    </tr>\n",
       "    <tr>\n",
       "      <th>7</th>\n",
       "      <td>0006_02</td>\n",
       "      <td>1</td>\n",
       "      <td>1</td>\n",
       "      <td>1</td>\n",
       "      <td>28.0</td>\n",
       "      <td>0</td>\n",
       "      <td>Candra Jacostaffey</td>\n",
       "      <td>1</td>\n",
       "      <td>0.0</td>\n",
       "      <td>1</td>\n",
       "      <td>7</td>\n",
       "      <td>2</td>\n",
       "      <td>6</td>\n",
       "      <td>7</td>\n",
       "    </tr>\n",
       "    <tr>\n",
       "      <th>8</th>\n",
       "      <td>0007_01</td>\n",
       "      <td>1</td>\n",
       "      <td>0</td>\n",
       "      <td>1</td>\n",
       "      <td>35.0</td>\n",
       "      <td>0</td>\n",
       "      <td>Andona Beston</td>\n",
       "      <td>1</td>\n",
       "      <td>1018.0</td>\n",
       "      <td>1</td>\n",
       "      <td>6</td>\n",
       "      <td>1</td>\n",
       "      <td>7</td>\n",
       "      <td>8</td>\n",
       "    </tr>\n",
       "    <tr>\n",
       "      <th>9</th>\n",
       "      <td>0008_01</td>\n",
       "      <td>2</td>\n",
       "      <td>1</td>\n",
       "      <td>2</td>\n",
       "      <td>14.0</td>\n",
       "      <td>0</td>\n",
       "      <td>Erraiam Flatic</td>\n",
       "      <td>1</td>\n",
       "      <td>0.0</td>\n",
       "      <td>2</td>\n",
       "      <td>2</td>\n",
       "      <td>3</td>\n",
       "      <td>8</td>\n",
       "      <td>9</td>\n",
       "    </tr>\n",
       "    <tr>\n",
       "      <th>10</th>\n",
       "      <td>0008_02</td>\n",
       "      <td>2</td>\n",
       "      <td>1</td>\n",
       "      <td>1</td>\n",
       "      <td>34.0</td>\n",
       "      <td>0</td>\n",
       "      <td>Altardr Flatic</td>\n",
       "      <td>1</td>\n",
       "      <td>0.0</td>\n",
       "      <td>2</td>\n",
       "      <td>2</td>\n",
       "      <td>3</td>\n",
       "      <td>8</td>\n",
       "      <td>10</td>\n",
       "    </tr>\n",
       "    <tr>\n",
       "      <th>11</th>\n",
       "      <td>0008_03</td>\n",
       "      <td>2</td>\n",
       "      <td>0</td>\n",
       "      <td>2</td>\n",
       "      <td>45.0</td>\n",
       "      <td>0</td>\n",
       "      <td>Wezena Flatic</td>\n",
       "      <td>1</td>\n",
       "      <td>8157.0</td>\n",
       "      <td>2</td>\n",
       "      <td>2</td>\n",
       "      <td>3</td>\n",
       "      <td>8</td>\n",
       "      <td>11</td>\n",
       "    </tr>\n",
       "    <tr>\n",
       "      <th>12</th>\n",
       "      <td>0009_01</td>\n",
       "      <td>3</td>\n",
       "      <td>0</td>\n",
       "      <td>1</td>\n",
       "      <td>32.0</td>\n",
       "      <td>0</td>\n",
       "      <td>Berers Barne</td>\n",
       "      <td>1</td>\n",
       "      <td>1309.0</td>\n",
       "      <td>2</td>\n",
       "      <td>6</td>\n",
       "      <td>1</td>\n",
       "      <td>9</td>\n",
       "      <td>12</td>\n",
       "    </tr>\n",
       "    <tr>\n",
       "      <th>13</th>\n",
       "      <td>0010_01</td>\n",
       "      <td>1</td>\n",
       "      <td>0</td>\n",
       "      <td>1</td>\n",
       "      <td>48.0</td>\n",
       "      <td>0</td>\n",
       "      <td>Reney Baketton</td>\n",
       "      <td>0</td>\n",
       "      <td>809.0</td>\n",
       "      <td>1</td>\n",
       "      <td>7</td>\n",
       "      <td>1</td>\n",
       "      <td>10</td>\n",
       "      <td>13</td>\n",
       "    </tr>\n",
       "    <tr>\n",
       "      <th>14</th>\n",
       "      <td>0011_01</td>\n",
       "      <td>1</td>\n",
       "      <td>0</td>\n",
       "      <td>1</td>\n",
       "      <td>28.0</td>\n",
       "      <td>0</td>\n",
       "      <td>Elle Bertsontry</td>\n",
       "      <td>1</td>\n",
       "      <td>1003.0</td>\n",
       "      <td>2</td>\n",
       "      <td>6</td>\n",
       "      <td>1</td>\n",
       "      <td>11</td>\n",
       "      <td>14</td>\n",
       "    </tr>\n",
       "    <tr>\n",
       "      <th>15</th>\n",
       "      <td>0012_01</td>\n",
       "      <td>1</td>\n",
       "      <td>0</td>\n",
       "      <td>1</td>\n",
       "      <td>31.0</td>\n",
       "      <td>0</td>\n",
       "      <td>Justie Pooles</td>\n",
       "      <td>0</td>\n",
       "      <td>908.0</td>\n",
       "      <td>2</td>\n",
       "      <td>9</td>\n",
       "      <td>1</td>\n",
       "      <td>12</td>\n",
       "      <td>15</td>\n",
       "    </tr>\n",
       "    <tr>\n",
       "      <th>16</th>\n",
       "      <td>0014_01</td>\n",
       "      <td>3</td>\n",
       "      <td>0</td>\n",
       "      <td>2</td>\n",
       "      <td>27.0</td>\n",
       "      <td>0</td>\n",
       "      <td>Flats Eccle</td>\n",
       "      <td>0</td>\n",
       "      <td>1408.0</td>\n",
       "      <td>2</td>\n",
       "      <td>6</td>\n",
       "      <td>1</td>\n",
       "      <td>14</td>\n",
       "      <td>16</td>\n",
       "    </tr>\n",
       "    <tr>\n",
       "      <th>17</th>\n",
       "      <td>0015_01</td>\n",
       "      <td>1</td>\n",
       "      <td>0</td>\n",
       "      <td>2</td>\n",
       "      <td>24.0</td>\n",
       "      <td>0</td>\n",
       "      <td>Carry Hughriend</td>\n",
       "      <td>0</td>\n",
       "      <td>638.0</td>\n",
       "      <td>2</td>\n",
       "      <td>6</td>\n",
       "      <td>1</td>\n",
       "      <td>15</td>\n",
       "      <td>17</td>\n",
       "    </tr>\n",
       "    <tr>\n",
       "      <th>18</th>\n",
       "      <td>0016_01</td>\n",
       "      <td>3</td>\n",
       "      <td>1</td>\n",
       "      <td>1</td>\n",
       "      <td>45.0</td>\n",
       "      <td>0</td>\n",
       "      <td>Alus Upead</td>\n",
       "      <td>1</td>\n",
       "      <td>0.0</td>\n",
       "      <td>2</td>\n",
       "      <td>6</td>\n",
       "      <td>1</td>\n",
       "      <td>16</td>\n",
       "      <td>18</td>\n",
       "    </tr>\n",
       "    <tr>\n",
       "      <th>19</th>\n",
       "      <td>0017_01</td>\n",
       "      <td>1</td>\n",
       "      <td>0</td>\n",
       "      <td>1</td>\n",
       "      <td>0.0</td>\n",
       "      <td>0</td>\n",
       "      <td>Lyde Brighttt</td>\n",
       "      <td>1</td>\n",
       "      <td>0.0</td>\n",
       "      <td>2</td>\n",
       "      <td>7</td>\n",
       "      <td>2</td>\n",
       "      <td>17</td>\n",
       "      <td>19</td>\n",
       "    </tr>\n",
       "    <tr>\n",
       "      <th>20</th>\n",
       "      <td>0017_02</td>\n",
       "      <td>1</td>\n",
       "      <td>0</td>\n",
       "      <td>2</td>\n",
       "      <td>14.0</td>\n",
       "      <td>0</td>\n",
       "      <td>Philda Brighttt</td>\n",
       "      <td>0</td>\n",
       "      <td>1092.0</td>\n",
       "      <td>2</td>\n",
       "      <td>6</td>\n",
       "      <td>2</td>\n",
       "      <td>17</td>\n",
       "      <td>20</td>\n",
       "    </tr>\n",
       "    <tr>\n",
       "      <th>21</th>\n",
       "      <td>0020_01</td>\n",
       "      <td>1</td>\n",
       "      <td>1</td>\n",
       "      <td>1</td>\n",
       "      <td>1.0</td>\n",
       "      <td>0</td>\n",
       "      <td>Almary Brantuarez</td>\n",
       "      <td>0</td>\n",
       "      <td>0.0</td>\n",
       "      <td>1</td>\n",
       "      <td>5</td>\n",
       "      <td>6</td>\n",
       "      <td>20</td>\n",
       "      <td>21</td>\n",
       "    </tr>\n",
       "    <tr>\n",
       "      <th>22</th>\n",
       "      <td>0020_02</td>\n",
       "      <td>1</td>\n",
       "      <td>1</td>\n",
       "      <td>2</td>\n",
       "      <td>49.0</td>\n",
       "      <td>0</td>\n",
       "      <td>Glendy Brantuarez</td>\n",
       "      <td>0</td>\n",
       "      <td>0.0</td>\n",
       "      <td>1</td>\n",
       "      <td>5</td>\n",
       "      <td>6</td>\n",
       "      <td>20</td>\n",
       "      <td>22</td>\n",
       "    </tr>\n",
       "    <tr>\n",
       "      <th>23</th>\n",
       "      <td>0020_03</td>\n",
       "      <td>1</td>\n",
       "      <td>1</td>\n",
       "      <td>2</td>\n",
       "      <td>29.0</td>\n",
       "      <td>0</td>\n",
       "      <td>Mollen Mcfaddennon</td>\n",
       "      <td>0</td>\n",
       "      <td>0.0</td>\n",
       "      <td>1</td>\n",
       "      <td>5</td>\n",
       "      <td>6</td>\n",
       "      <td>20</td>\n",
       "      <td>23</td>\n",
       "    </tr>\n",
       "    <tr>\n",
       "      <th>24</th>\n",
       "      <td>0020_04</td>\n",
       "      <td>1</td>\n",
       "      <td>0</td>\n",
       "      <td>1</td>\n",
       "      <td>10.0</td>\n",
       "      <td>0</td>\n",
       "      <td>Breney Jacostanley</td>\n",
       "      <td>1</td>\n",
       "      <td>0.0</td>\n",
       "      <td>1</td>\n",
       "      <td>5</td>\n",
       "      <td>6</td>\n",
       "      <td>20</td>\n",
       "      <td>24</td>\n",
       "    </tr>\n",
       "    <tr>\n",
       "      <th>25</th>\n",
       "      <td>0020_05</td>\n",
       "      <td>1</td>\n",
       "      <td>1</td>\n",
       "      <td>3</td>\n",
       "      <td>1.0</td>\n",
       "      <td>0</td>\n",
       "      <td>Mael Brantuarez</td>\n",
       "      <td>0</td>\n",
       "      <td>0.0</td>\n",
       "      <td>1</td>\n",
       "      <td>5</td>\n",
       "      <td>6</td>\n",
       "      <td>20</td>\n",
       "      <td>25</td>\n",
       "    </tr>\n",
       "    <tr>\n",
       "      <th>26</th>\n",
       "      <td>0020_06</td>\n",
       "      <td>1</td>\n",
       "      <td>0</td>\n",
       "      <td>1</td>\n",
       "      <td>7.0</td>\n",
       "      <td>0</td>\n",
       "      <td>Terta Mcfaddennon</td>\n",
       "      <td>0</td>\n",
       "      <td>0.0</td>\n",
       "      <td>1</td>\n",
       "      <td>5</td>\n",
       "      <td>6</td>\n",
       "      <td>20</td>\n",
       "      <td>26</td>\n",
       "    </tr>\n",
       "    <tr>\n",
       "      <th>27</th>\n",
       "      <td>0022_01</td>\n",
       "      <td>3</td>\n",
       "      <td>0</td>\n",
       "      <td>1</td>\n",
       "      <td>21.0</td>\n",
       "      <td>0</td>\n",
       "      <td>NaN</td>\n",
       "      <td>0</td>\n",
       "      <td>1051.0</td>\n",
       "      <td>2</td>\n",
       "      <td>4</td>\n",
       "      <td>1</td>\n",
       "      <td>22</td>\n",
       "      <td>27</td>\n",
       "    </tr>\n",
       "    <tr>\n",
       "      <th>28</th>\n",
       "      <td>0024_01</td>\n",
       "      <td>2</td>\n",
       "      <td>1</td>\n",
       "      <td>1</td>\n",
       "      <td>62.0</td>\n",
       "      <td>0</td>\n",
       "      <td>Penton Fullided</td>\n",
       "      <td>1</td>\n",
       "      <td>0.0</td>\n",
       "      <td>1</td>\n",
       "      <td>3</td>\n",
       "      <td>1</td>\n",
       "      <td>24</td>\n",
       "      <td>28</td>\n",
       "    </tr>\n",
       "    <tr>\n",
       "      <th>29</th>\n",
       "      <td>0025_01</td>\n",
       "      <td>1</td>\n",
       "      <td>0</td>\n",
       "      <td>1</td>\n",
       "      <td>15.0</td>\n",
       "      <td>0</td>\n",
       "      <td>Karard Brookenson</td>\n",
       "      <td>0</td>\n",
       "      <td>1223.0</td>\n",
       "      <td>1</td>\n",
       "      <td>6</td>\n",
       "      <td>1</td>\n",
       "      <td>25</td>\n",
       "      <td>29</td>\n",
       "    </tr>\n",
       "    <tr>\n",
       "      <th>30</th>\n",
       "      <td>0026_01</td>\n",
       "      <td>2</td>\n",
       "      <td>0</td>\n",
       "      <td>2</td>\n",
       "      <td>34.0</td>\n",
       "      <td>0</td>\n",
       "      <td>Anyoni Unconary</td>\n",
       "      <td>0</td>\n",
       "      <td>7861.0</td>\n",
       "      <td>2</td>\n",
       "      <td>3</td>\n",
       "      <td>1</td>\n",
       "      <td>26</td>\n",
       "      <td>30</td>\n",
       "    </tr>\n",
       "    <tr>\n",
       "      <th>31</th>\n",
       "      <td>0028_01</td>\n",
       "      <td>3</td>\n",
       "      <td>0</td>\n",
       "      <td>1</td>\n",
       "      <td>43.0</td>\n",
       "      <td>0</td>\n",
       "      <td>Ceros Mare</td>\n",
       "      <td>0</td>\n",
       "      <td>1309.0</td>\n",
       "      <td>2</td>\n",
       "      <td>6</td>\n",
       "      <td>1</td>\n",
       "      <td>28</td>\n",
       "      <td>31</td>\n",
       "    </tr>\n",
       "    <tr>\n",
       "      <th>32</th>\n",
       "      <td>0030_01</td>\n",
       "      <td>1</td>\n",
       "      <td>0</td>\n",
       "      <td>1</td>\n",
       "      <td>32.0</td>\n",
       "      <td>0</td>\n",
       "      <td>Ginia Morsentley</td>\n",
       "      <td>0</td>\n",
       "      <td>1821.0</td>\n",
       "      <td>1</td>\n",
       "      <td>7</td>\n",
       "      <td>1</td>\n",
       "      <td>30</td>\n",
       "      <td>32</td>\n",
       "    </tr>\n",
       "    <tr>\n",
       "      <th>33</th>\n",
       "      <td>0031_01</td>\n",
       "      <td>3</td>\n",
       "      <td>0</td>\n",
       "      <td>1</td>\n",
       "      <td>47.0</td>\n",
       "      <td>0</td>\n",
       "      <td>Coobix Datie</td>\n",
       "      <td>1</td>\n",
       "      <td>2854.0</td>\n",
       "      <td>2</td>\n",
       "      <td>6</td>\n",
       "      <td>3</td>\n",
       "      <td>31</td>\n",
       "      <td>33</td>\n",
       "    </tr>\n",
       "    <tr>\n",
       "      <th>34</th>\n",
       "      <td>0031_02</td>\n",
       "      <td>3</td>\n",
       "      <td>0</td>\n",
       "      <td>1</td>\n",
       "      <td>2.0</td>\n",
       "      <td>0</td>\n",
       "      <td>Cinets Datie</td>\n",
       "      <td>1</td>\n",
       "      <td>0.0</td>\n",
       "      <td>2</td>\n",
       "      <td>6</td>\n",
       "      <td>3</td>\n",
       "      <td>31</td>\n",
       "      <td>34</td>\n",
       "    </tr>\n",
       "    <tr>\n",
       "      <th>35</th>\n",
       "      <td>0031_03</td>\n",
       "      <td>3</td>\n",
       "      <td>0</td>\n",
       "      <td>1</td>\n",
       "      <td>20.0</td>\n",
       "      <td>0</td>\n",
       "      <td>Dontch Datie</td>\n",
       "      <td>1</td>\n",
       "      <td>2740.0</td>\n",
       "      <td>2</td>\n",
       "      <td>6</td>\n",
       "      <td>3</td>\n",
       "      <td>31</td>\n",
       "      <td>35</td>\n",
       "    </tr>\n",
       "    <tr>\n",
       "      <th>36</th>\n",
       "      <td>0034_01</td>\n",
       "      <td>2</td>\n",
       "      <td>1</td>\n",
       "      <td>2</td>\n",
       "      <td>28.0</td>\n",
       "      <td>0</td>\n",
       "      <td>Ziba Oingwhedly</td>\n",
       "      <td>1</td>\n",
       "      <td>0.0</td>\n",
       "      <td>1</td>\n",
       "      <td>4</td>\n",
       "      <td>1</td>\n",
       "      <td>34</td>\n",
       "      <td>36</td>\n",
       "    </tr>\n",
       "    <tr>\n",
       "      <th>37</th>\n",
       "      <td>0035_01</td>\n",
       "      <td>3</td>\n",
       "      <td>0</td>\n",
       "      <td>2</td>\n",
       "      <td>23.0</td>\n",
       "      <td>0</td>\n",
       "      <td>Luse Butte</td>\n",
       "      <td>0</td>\n",
       "      <td>2699.0</td>\n",
       "      <td>2</td>\n",
       "      <td>4</td>\n",
       "      <td>1</td>\n",
       "      <td>35</td>\n",
       "      <td>37</td>\n",
       "    </tr>\n",
       "    <tr>\n",
       "      <th>38</th>\n",
       "      <td>0036_01</td>\n",
       "      <td>1</td>\n",
       "      <td>0</td>\n",
       "      <td>2</td>\n",
       "      <td>15.0</td>\n",
       "      <td>NaN</td>\n",
       "      <td>Marina Leodger</td>\n",
       "      <td>0</td>\n",
       "      <td>961.0</td>\n",
       "      <td>1</td>\n",
       "      <td>6</td>\n",
       "      <td>1</td>\n",
       "      <td>36</td>\n",
       "      <td>38</td>\n",
       "    </tr>\n",
       "    <tr>\n",
       "      <th>39</th>\n",
       "      <td>0038_01</td>\n",
       "      <td>1</td>\n",
       "      <td>0</td>\n",
       "      <td>2</td>\n",
       "      <td>20.0</td>\n",
       "      <td>0</td>\n",
       "      <td>Loise Wheelez</td>\n",
       "      <td>0</td>\n",
       "      <td>3355.0</td>\n",
       "      <td>1</td>\n",
       "      <td>6</td>\n",
       "      <td>1</td>\n",
       "      <td>38</td>\n",
       "      <td>39</td>\n",
       "    </tr>\n",
       "    <tr>\n",
       "      <th>40</th>\n",
       "      <td>0039_01</td>\n",
       "      <td>1</td>\n",
       "      <td>1</td>\n",
       "      <td>2</td>\n",
       "      <td>30.0</td>\n",
       "      <td>0</td>\n",
       "      <td>Jorgie Batthewitt</td>\n",
       "      <td>0</td>\n",
       "      <td>0.0</td>\n",
       "      <td>2</td>\n",
       "      <td>7</td>\n",
       "      <td>1</td>\n",
       "      <td>39</td>\n",
       "      <td>40</td>\n",
       "    </tr>\n",
       "    <tr>\n",
       "      <th>41</th>\n",
       "      <td>0041_01</td>\n",
       "      <td>1</td>\n",
       "      <td>1</td>\n",
       "      <td>1</td>\n",
       "      <td>17.0</td>\n",
       "      <td>0</td>\n",
       "      <td>Margia Moodsey</td>\n",
       "      <td>1</td>\n",
       "      <td>0.0</td>\n",
       "      <td>2</td>\n",
       "      <td>7</td>\n",
       "      <td>1</td>\n",
       "      <td>41</td>\n",
       "      <td>41</td>\n",
       "    </tr>\n",
       "    <tr>\n",
       "      <th>42</th>\n",
       "      <td>0043_01</td>\n",
       "      <td>2</td>\n",
       "      <td>0</td>\n",
       "      <td>1</td>\n",
       "      <td>45.0</td>\n",
       "      <td>0</td>\n",
       "      <td>Ankalik Cylistrand</td>\n",
       "      <td>0</td>\n",
       "      <td>3575.0</td>\n",
       "      <td>2</td>\n",
       "      <td>2</td>\n",
       "      <td>1</td>\n",
       "      <td>43</td>\n",
       "      <td>42</td>\n",
       "    </tr>\n",
       "    <tr>\n",
       "      <th>43</th>\n",
       "      <td>0044_01</td>\n",
       "      <td>1</td>\n",
       "      <td>1</td>\n",
       "      <td>1</td>\n",
       "      <td>55.0</td>\n",
       "      <td>0</td>\n",
       "      <td>Jodye Coopelandez</td>\n",
       "      <td>0</td>\n",
       "      <td>0.0</td>\n",
       "      <td>2</td>\n",
       "      <td>7</td>\n",
       "      <td>3</td>\n",
       "      <td>44</td>\n",
       "      <td>43</td>\n",
       "    </tr>\n",
       "    <tr>\n",
       "      <th>44</th>\n",
       "      <td>0044_02</td>\n",
       "      <td>1</td>\n",
       "      <td>1</td>\n",
       "      <td>2</td>\n",
       "      <td>4.0</td>\n",
       "      <td>0</td>\n",
       "      <td>Kayne Coopelandez</td>\n",
       "      <td>1</td>\n",
       "      <td>0.0</td>\n",
       "      <td>2</td>\n",
       "      <td>7</td>\n",
       "      <td>3</td>\n",
       "      <td>44</td>\n",
       "      <td>44</td>\n",
       "    </tr>\n",
       "    <tr>\n",
       "      <th>45</th>\n",
       "      <td>0044_03</td>\n",
       "      <td>1</td>\n",
       "      <td>1</td>\n",
       "      <td>3</td>\n",
       "      <td>21.0</td>\n",
       "      <td>0</td>\n",
       "      <td>Cassa Coopelandez</td>\n",
       "      <td>1</td>\n",
       "      <td>0.0</td>\n",
       "      <td>2</td>\n",
       "      <td>7</td>\n",
       "      <td>3</td>\n",
       "      <td>44</td>\n",
       "      <td>45</td>\n",
       "    </tr>\n",
       "    <tr>\n",
       "      <th>46</th>\n",
       "      <td>0045_01</td>\n",
       "      <td>3</td>\n",
       "      <td>0</td>\n",
       "      <td>1</td>\n",
       "      <td>21.0</td>\n",
       "      <td>0</td>\n",
       "      <td>Zelowl Chmad</td>\n",
       "      <td>0</td>\n",
       "      <td>1214.0</td>\n",
       "      <td>2</td>\n",
       "      <td>6</td>\n",
       "      <td>2</td>\n",
       "      <td>45</td>\n",
       "      <td>46</td>\n",
       "    </tr>\n",
       "    <tr>\n",
       "      <th>47</th>\n",
       "      <td>0045_02</td>\n",
       "      <td>3</td>\n",
       "      <td>1</td>\n",
       "      <td>NaN</td>\n",
       "      <td>19.0</td>\n",
       "      <td>0</td>\n",
       "      <td>Mass Chmad</td>\n",
       "      <td>1</td>\n",
       "      <td>0.0</td>\n",
       "      <td>2</td>\n",
       "      <td>6</td>\n",
       "      <td>2</td>\n",
       "      <td>45</td>\n",
       "      <td>47</td>\n",
       "    </tr>\n",
       "    <tr>\n",
       "      <th>48</th>\n",
       "      <td>0050_01</td>\n",
       "      <td>1</td>\n",
       "      <td>0</td>\n",
       "      <td>2</td>\n",
       "      <td>35.0</td>\n",
       "      <td>0</td>\n",
       "      <td>Sony Lancis</td>\n",
       "      <td>0</td>\n",
       "      <td>790.0</td>\n",
       "      <td>1</td>\n",
       "      <td>5</td>\n",
       "      <td>1</td>\n",
       "      <td>50</td>\n",
       "      <td>48</td>\n",
       "    </tr>\n",
       "    <tr>\n",
       "      <th>49</th>\n",
       "      <td>0051_01</td>\n",
       "      <td>1</td>\n",
       "      <td>0</td>\n",
       "      <td>1</td>\n",
       "      <td>56.0</td>\n",
       "      <td>0</td>\n",
       "      <td>Vivia Johnshines</td>\n",
       "      <td>0</td>\n",
       "      <td>1618.0</td>\n",
       "      <td>1</td>\n",
       "      <td>5</td>\n",
       "      <td>1</td>\n",
       "      <td>51</td>\n",
       "      <td>49</td>\n",
       "    </tr>\n",
       "  </tbody>\n",
       "</table>\n",
       "</div>"
      ],
      "text/plain": [
       "   PassengerId HomePlanet CryoSleep Destination   Age  VIP  \\\n",
       "0      0001_01          2         0           1  39.0    0   \n",
       "1      0002_01          1         0           1  24.0    0   \n",
       "2      0003_01          2         0           1  58.0    1   \n",
       "3      0003_02          2         0           1  33.0    0   \n",
       "4      0004_01          1         0           1  16.0    0   \n",
       "5      0005_01          1         0           3  44.0    0   \n",
       "6      0006_01          1         0           1  26.0    0   \n",
       "7      0006_02          1         1           1  28.0    0   \n",
       "8      0007_01          1         0           1  35.0    0   \n",
       "9      0008_01          2         1           2  14.0    0   \n",
       "10     0008_02          2         1           1  34.0    0   \n",
       "11     0008_03          2         0           2  45.0    0   \n",
       "12     0009_01          3         0           1  32.0    0   \n",
       "13     0010_01          1         0           1  48.0    0   \n",
       "14     0011_01          1         0           1  28.0    0   \n",
       "15     0012_01          1         0           1  31.0    0   \n",
       "16     0014_01          3         0           2  27.0    0   \n",
       "17     0015_01          1         0           2  24.0    0   \n",
       "18     0016_01          3         1           1  45.0    0   \n",
       "19     0017_01          1         0           1   0.0    0   \n",
       "20     0017_02          1         0           2  14.0    0   \n",
       "21     0020_01          1         1           1   1.0    0   \n",
       "22     0020_02          1         1           2  49.0    0   \n",
       "23     0020_03          1         1           2  29.0    0   \n",
       "24     0020_04          1         0           1  10.0    0   \n",
       "25     0020_05          1         1           3   1.0    0   \n",
       "26     0020_06          1         0           1   7.0    0   \n",
       "27     0022_01          3         0           1  21.0    0   \n",
       "28     0024_01          2         1           1  62.0    0   \n",
       "29     0025_01          1         0           1  15.0    0   \n",
       "30     0026_01          2         0           2  34.0    0   \n",
       "31     0028_01          3         0           1  43.0    0   \n",
       "32     0030_01          1         0           1  32.0    0   \n",
       "33     0031_01          3         0           1  47.0    0   \n",
       "34     0031_02          3         0           1   2.0    0   \n",
       "35     0031_03          3         0           1  20.0    0   \n",
       "36     0034_01          2         1           2  28.0    0   \n",
       "37     0035_01          3         0           2  23.0    0   \n",
       "38     0036_01          1         0           2  15.0  NaN   \n",
       "39     0038_01          1         0           2  20.0    0   \n",
       "40     0039_01          1         1           2  30.0    0   \n",
       "41     0041_01          1         1           1  17.0    0   \n",
       "42     0043_01          2         0           1  45.0    0   \n",
       "43     0044_01          1         1           1  55.0    0   \n",
       "44     0044_02          1         1           2   4.0    0   \n",
       "45     0044_03          1         1           3  21.0    0   \n",
       "46     0045_01          3         0           1  21.0    0   \n",
       "47     0045_02          3         1         NaN  19.0    0   \n",
       "48     0050_01          1         0           2  35.0    0   \n",
       "49     0051_01          1         0           1  56.0    0   \n",
       "\n",
       "                  Name Transported  SpentMoney  Side Cabin_literal  \\\n",
       "0      Maham Ofracculy           0         0.0     2             2   \n",
       "1         Juanna Vines           1       736.0     1             6   \n",
       "2        Altark Susent           0     10383.0     1             1   \n",
       "3         Solam Susent           0      5176.0     1             1   \n",
       "4    Willy Santantines           1      1091.0     1             6   \n",
       "5    Sandie Hinetthews           1       774.0     2             6   \n",
       "6   Billex Jacostaffey           1      1584.0     1             6   \n",
       "7   Candra Jacostaffey           1         0.0     1             7   \n",
       "8        Andona Beston           1      1018.0     1             6   \n",
       "9       Erraiam Flatic           1         0.0     2             2   \n",
       "10      Altardr Flatic           1         0.0     2             2   \n",
       "11       Wezena Flatic           1      8157.0     2             2   \n",
       "12        Berers Barne           1      1309.0     2             6   \n",
       "13      Reney Baketton           0       809.0     1             7   \n",
       "14     Elle Bertsontry           1      1003.0     2             6   \n",
       "15       Justie Pooles           0       908.0     2             9   \n",
       "16         Flats Eccle           0      1408.0     2             6   \n",
       "17     Carry Hughriend           0       638.0     2             6   \n",
       "18          Alus Upead           1         0.0     2             6   \n",
       "19       Lyde Brighttt           1         0.0     2             7   \n",
       "20     Philda Brighttt           0      1092.0     2             6   \n",
       "21   Almary Brantuarez           0         0.0     1             5   \n",
       "22   Glendy Brantuarez           0         0.0     1             5   \n",
       "23  Mollen Mcfaddennon           0         0.0     1             5   \n",
       "24  Breney Jacostanley           1         0.0     1             5   \n",
       "25     Mael Brantuarez           0         0.0     1             5   \n",
       "26   Terta Mcfaddennon           0         0.0     1             5   \n",
       "27                 NaN           0      1051.0     2             4   \n",
       "28     Penton Fullided           1         0.0     1             3   \n",
       "29   Karard Brookenson           0      1223.0     1             6   \n",
       "30     Anyoni Unconary           0      7861.0     2             3   \n",
       "31          Ceros Mare           0      1309.0     2             6   \n",
       "32    Ginia Morsentley           0      1821.0     1             7   \n",
       "33        Coobix Datie           1      2854.0     2             6   \n",
       "34        Cinets Datie           1         0.0     2             6   \n",
       "35        Dontch Datie           1      2740.0     2             6   \n",
       "36     Ziba Oingwhedly           1         0.0     1             4   \n",
       "37          Luse Butte           0      2699.0     2             4   \n",
       "38      Marina Leodger           0       961.0     1             6   \n",
       "39       Loise Wheelez           0      3355.0     1             6   \n",
       "40   Jorgie Batthewitt           0         0.0     2             7   \n",
       "41      Margia Moodsey           1         0.0     2             7   \n",
       "42  Ankalik Cylistrand           0      3575.0     2             2   \n",
       "43   Jodye Coopelandez           0         0.0     2             7   \n",
       "44   Kayne Coopelandez           1         0.0     2             7   \n",
       "45   Cassa Coopelandez           1         0.0     2             7   \n",
       "46        Zelowl Chmad           0      1214.0     2             6   \n",
       "47          Mass Chmad           1         0.0     2             6   \n",
       "48         Sony Lancis           0       790.0     1             5   \n",
       "49    Vivia Johnshines           0      1618.0     1             5   \n",
       "\n",
       "    PeopleCount  NumGroup  index  \n",
       "0             1         1      0  \n",
       "1             1         2      1  \n",
       "2             2         3      2  \n",
       "3             2         3      3  \n",
       "4             1         4      4  \n",
       "5             1         5      5  \n",
       "6             2         6      6  \n",
       "7             2         6      7  \n",
       "8             1         7      8  \n",
       "9             3         8      9  \n",
       "10            3         8     10  \n",
       "11            3         8     11  \n",
       "12            1         9     12  \n",
       "13            1        10     13  \n",
       "14            1        11     14  \n",
       "15            1        12     15  \n",
       "16            1        14     16  \n",
       "17            1        15     17  \n",
       "18            1        16     18  \n",
       "19            2        17     19  \n",
       "20            2        17     20  \n",
       "21            6        20     21  \n",
       "22            6        20     22  \n",
       "23            6        20     23  \n",
       "24            6        20     24  \n",
       "25            6        20     25  \n",
       "26            6        20     26  \n",
       "27            1        22     27  \n",
       "28            1        24     28  \n",
       "29            1        25     29  \n",
       "30            1        26     30  \n",
       "31            1        28     31  \n",
       "32            1        30     32  \n",
       "33            3        31     33  \n",
       "34            3        31     34  \n",
       "35            3        31     35  \n",
       "36            1        34     36  \n",
       "37            1        35     37  \n",
       "38            1        36     38  \n",
       "39            1        38     39  \n",
       "40            1        39     40  \n",
       "41            1        41     41  \n",
       "42            1        43     42  \n",
       "43            3        44     43  \n",
       "44            3        44     44  \n",
       "45            3        44     45  \n",
       "46            2        45     46  \n",
       "47            2        45     47  \n",
       "48            1        50     48  \n",
       "49            1        51     49  "
      ]
     },
     "execution_count": 48,
     "metadata": {},
     "output_type": "execute_result"
    }
   ],
   "source": [
    "df.head(50)"
   ]
  },
  {
   "cell_type": "markdown",
   "id": "7bfd8226",
   "metadata": {},
   "source": [
    "#### Признак Name"
   ]
  },
  {
   "cell_type": "code",
   "execution_count": 49,
   "id": "7525de0c",
   "metadata": {},
   "outputs": [],
   "source": [
    "# Удалим строки, в которых пропущены данные\n",
    "df.dropna(inplace = True)"
   ]
  },
  {
   "cell_type": "markdown",
   "id": "fcbd5ef2",
   "metadata": {},
   "source": [
    "Оставим в столбце Name только фамилии"
   ]
  },
  {
   "cell_type": "code",
   "execution_count": 50,
   "id": "331d2435",
   "metadata": {},
   "outputs": [],
   "source": [
    "def del_name(Name):\n",
    "    list_name = str(Name).split()\n",
    "    return list_name[-1]"
   ]
  },
  {
   "cell_type": "code",
   "execution_count": 51,
   "id": "2d0a49b7",
   "metadata": {},
   "outputs": [],
   "source": [
    "df['Name'] = df['Name'].apply(del_name)"
   ]
  },
  {
   "cell_type": "markdown",
   "id": "1b16266a",
   "metadata": {},
   "source": [
    "По всей видимости, не все люди, являющиеся однофамильцами, являются родственниками. Будем считать родственниками только тех, у кого одна фамилия и кто путешествует в одной каюте"
   ]
  },
  {
   "cell_type": "code",
   "execution_count": 52,
   "id": "a498d772",
   "metadata": {
    "scrolled": false
   },
   "outputs": [
    {
     "data": {
      "text/html": [
       "<div>\n",
       "<style scoped>\n",
       "    .dataframe tbody tr th:only-of-type {\n",
       "        vertical-align: middle;\n",
       "    }\n",
       "\n",
       "    .dataframe tbody tr th {\n",
       "        vertical-align: top;\n",
       "    }\n",
       "\n",
       "    .dataframe thead th {\n",
       "        text-align: right;\n",
       "    }\n",
       "</style>\n",
       "<table border=\"1\" class=\"dataframe\">\n",
       "  <thead>\n",
       "    <tr style=\"text-align: right;\">\n",
       "      <th></th>\n",
       "      <th>PassengerId</th>\n",
       "      <th>Name</th>\n",
       "      <th>PeopleCount</th>\n",
       "      <th>NumGroup</th>\n",
       "      <th>index</th>\n",
       "    </tr>\n",
       "  </thead>\n",
       "  <tbody>\n",
       "    <tr>\n",
       "      <th>2822</th>\n",
       "      <td>3044_01</td>\n",
       "      <td>Fowlesterez</td>\n",
       "      <td>1</td>\n",
       "      <td>3044</td>\n",
       "      <td>2822</td>\n",
       "    </tr>\n",
       "    <tr>\n",
       "      <th>3423</th>\n",
       "      <td>3690_01</td>\n",
       "      <td>Fowlesterez</td>\n",
       "      <td>1</td>\n",
       "      <td>3690</td>\n",
       "      <td>3423</td>\n",
       "    </tr>\n",
       "    <tr>\n",
       "      <th>3652</th>\n",
       "      <td>3926_01</td>\n",
       "      <td>Fowlesterez</td>\n",
       "      <td>1</td>\n",
       "      <td>3926</td>\n",
       "      <td>3652</td>\n",
       "    </tr>\n",
       "    <tr>\n",
       "      <th>3925</th>\n",
       "      <td>4188_01</td>\n",
       "      <td>Fowlesterez</td>\n",
       "      <td>1</td>\n",
       "      <td>4188</td>\n",
       "      <td>3925</td>\n",
       "    </tr>\n",
       "    <tr>\n",
       "      <th>5586</th>\n",
       "      <td>5950_01</td>\n",
       "      <td>Fowlesterez</td>\n",
       "      <td>1</td>\n",
       "      <td>5950</td>\n",
       "      <td>5586</td>\n",
       "    </tr>\n",
       "    <tr>\n",
       "      <th>7667</th>\n",
       "      <td>8182_01</td>\n",
       "      <td>Fowlesterez</td>\n",
       "      <td>1</td>\n",
       "      <td>8182</td>\n",
       "      <td>7667</td>\n",
       "    </tr>\n",
       "    <tr>\n",
       "      <th>8408</th>\n",
       "      <td>8988_02</td>\n",
       "      <td>Fowlesterez</td>\n",
       "      <td>8</td>\n",
       "      <td>8988</td>\n",
       "      <td>8408</td>\n",
       "    </tr>\n",
       "    <tr>\n",
       "      <th>8409</th>\n",
       "      <td>8988_03</td>\n",
       "      <td>Fowlesterez</td>\n",
       "      <td>8</td>\n",
       "      <td>8988</td>\n",
       "      <td>8409</td>\n",
       "    </tr>\n",
       "    <tr>\n",
       "      <th>8411</th>\n",
       "      <td>8988_05</td>\n",
       "      <td>Fowlesterez</td>\n",
       "      <td>8</td>\n",
       "      <td>8988</td>\n",
       "      <td>8411</td>\n",
       "    </tr>\n",
       "    <tr>\n",
       "      <th>8412</th>\n",
       "      <td>8988_06</td>\n",
       "      <td>Fowlesterez</td>\n",
       "      <td>8</td>\n",
       "      <td>8988</td>\n",
       "      <td>8412</td>\n",
       "    </tr>\n",
       "    <tr>\n",
       "      <th>8414</th>\n",
       "      <td>8988_08</td>\n",
       "      <td>Fowlesterez</td>\n",
       "      <td>8</td>\n",
       "      <td>8988</td>\n",
       "      <td>8414</td>\n",
       "    </tr>\n",
       "  </tbody>\n",
       "</table>\n",
       "</div>"
      ],
      "text/plain": [
       "     PassengerId         Name  PeopleCount  NumGroup  index\n",
       "2822     3044_01  Fowlesterez            1      3044   2822\n",
       "3423     3690_01  Fowlesterez            1      3690   3423\n",
       "3652     3926_01  Fowlesterez            1      3926   3652\n",
       "3925     4188_01  Fowlesterez            1      4188   3925\n",
       "5586     5950_01  Fowlesterez            1      5950   5586\n",
       "7667     8182_01  Fowlesterez            1      8182   7667\n",
       "8408     8988_02  Fowlesterez            8      8988   8408\n",
       "8409     8988_03  Fowlesterez            8      8988   8409\n",
       "8411     8988_05  Fowlesterez            8      8988   8411\n",
       "8412     8988_06  Fowlesterez            8      8988   8412\n",
       "8414     8988_08  Fowlesterez            8      8988   8414"
      ]
     },
     "execution_count": 52,
     "metadata": {},
     "output_type": "execute_result"
    }
   ],
   "source": [
    "df[df['Name']=='Fowlesterez'][['PassengerId','Name','PeopleCount','NumGroup', 'index']]"
   ]
  },
  {
   "cell_type": "code",
   "execution_count": 53,
   "id": "1865a26c",
   "metadata": {},
   "outputs": [],
   "source": [
    "# Создаем признак NumRelatives, который заполним количеством родственников\n",
    "for i in df['index'].values:\n",
    "    people_count = int(df[df['index']==i][['PeopleCount']].values)\n",
    "    if people_count == 1:\n",
    "            df.loc[(df.index == i),'NumRelatives'] = 1\n",
    "    else:                         \n",
    "        surname = str(df[df['index']==i][['Name']].values)\n",
    "        surname = surname[3:]\n",
    "        surname = surname[:-3]\n",
    "        num_group = int(df[df['index']==i][['NumGroup']].values)\n",
    "        one_group = df[df['NumGroup']==num_group][['PassengerId','Name','PeopleCount','NumGroup']]\n",
    "        num_relatives = len(one_group[one_group['Name']==surname]['Name'])\n",
    "        df.loc[(df.index == i),'NumRelatives'] = num_relatives\n",
    "        "
   ]
  },
  {
   "cell_type": "markdown",
   "id": "01b8c2e3",
   "metadata": {},
   "source": [
    "Проверим результаты"
   ]
  },
  {
   "cell_type": "code",
   "execution_count": 54,
   "id": "a78773cf",
   "metadata": {
    "scrolled": true
   },
   "outputs": [
    {
     "data": {
      "text/html": [
       "<div>\n",
       "<style scoped>\n",
       "    .dataframe tbody tr th:only-of-type {\n",
       "        vertical-align: middle;\n",
       "    }\n",
       "\n",
       "    .dataframe tbody tr th {\n",
       "        vertical-align: top;\n",
       "    }\n",
       "\n",
       "    .dataframe thead th {\n",
       "        text-align: right;\n",
       "    }\n",
       "</style>\n",
       "<table border=\"1\" class=\"dataframe\">\n",
       "  <thead>\n",
       "    <tr style=\"text-align: right;\">\n",
       "      <th></th>\n",
       "      <th>PassengerId</th>\n",
       "      <th>Name</th>\n",
       "      <th>PeopleCount</th>\n",
       "      <th>NumGroup</th>\n",
       "      <th>index</th>\n",
       "      <th>NumRelatives</th>\n",
       "    </tr>\n",
       "  </thead>\n",
       "  <tbody>\n",
       "    <tr>\n",
       "      <th>8408</th>\n",
       "      <td>8988_02</td>\n",
       "      <td>Fowlesterez</td>\n",
       "      <td>8</td>\n",
       "      <td>8988</td>\n",
       "      <td>8408</td>\n",
       "      <td>5.0</td>\n",
       "    </tr>\n",
       "    <tr>\n",
       "      <th>8409</th>\n",
       "      <td>8988_03</td>\n",
       "      <td>Fowlesterez</td>\n",
       "      <td>8</td>\n",
       "      <td>8988</td>\n",
       "      <td>8409</td>\n",
       "      <td>5.0</td>\n",
       "    </tr>\n",
       "    <tr>\n",
       "      <th>8410</th>\n",
       "      <td>8988_04</td>\n",
       "      <td>Malliamsey</td>\n",
       "      <td>8</td>\n",
       "      <td>8988</td>\n",
       "      <td>8410</td>\n",
       "      <td>2.0</td>\n",
       "    </tr>\n",
       "    <tr>\n",
       "      <th>8411</th>\n",
       "      <td>8988_05</td>\n",
       "      <td>Fowlesterez</td>\n",
       "      <td>8</td>\n",
       "      <td>8988</td>\n",
       "      <td>8411</td>\n",
       "      <td>5.0</td>\n",
       "    </tr>\n",
       "    <tr>\n",
       "      <th>8412</th>\n",
       "      <td>8988_06</td>\n",
       "      <td>Fowlesterez</td>\n",
       "      <td>8</td>\n",
       "      <td>8988</td>\n",
       "      <td>8412</td>\n",
       "      <td>5.0</td>\n",
       "    </tr>\n",
       "    <tr>\n",
       "      <th>8413</th>\n",
       "      <td>8988_07</td>\n",
       "      <td>Malliamsey</td>\n",
       "      <td>8</td>\n",
       "      <td>8988</td>\n",
       "      <td>8413</td>\n",
       "      <td>2.0</td>\n",
       "    </tr>\n",
       "    <tr>\n",
       "      <th>8414</th>\n",
       "      <td>8988_08</td>\n",
       "      <td>Fowlesterez</td>\n",
       "      <td>8</td>\n",
       "      <td>8988</td>\n",
       "      <td>8414</td>\n",
       "      <td>5.0</td>\n",
       "    </tr>\n",
       "  </tbody>\n",
       "</table>\n",
       "</div>"
      ],
      "text/plain": [
       "     PassengerId         Name  PeopleCount  NumGroup  index  NumRelatives\n",
       "8408     8988_02  Fowlesterez            8      8988   8408           5.0\n",
       "8409     8988_03  Fowlesterez            8      8988   8409           5.0\n",
       "8410     8988_04   Malliamsey            8      8988   8410           2.0\n",
       "8411     8988_05  Fowlesterez            8      8988   8411           5.0\n",
       "8412     8988_06  Fowlesterez            8      8988   8412           5.0\n",
       "8413     8988_07   Malliamsey            8      8988   8413           2.0\n",
       "8414     8988_08  Fowlesterez            8      8988   8414           5.0"
      ]
     },
     "execution_count": 54,
     "metadata": {},
     "output_type": "execute_result"
    }
   ],
   "source": [
    "df[df['NumGroup']==8988][['PassengerId','Name','PeopleCount','NumGroup', 'index','NumRelatives']]"
   ]
  },
  {
   "cell_type": "code",
   "execution_count": 55,
   "id": "8cdf74db",
   "metadata": {
    "scrolled": false
   },
   "outputs": [
    {
     "data": {
      "text/html": [
       "<div>\n",
       "<style scoped>\n",
       "    .dataframe tbody tr th:only-of-type {\n",
       "        vertical-align: middle;\n",
       "    }\n",
       "\n",
       "    .dataframe tbody tr th {\n",
       "        vertical-align: top;\n",
       "    }\n",
       "\n",
       "    .dataframe thead th {\n",
       "        text-align: right;\n",
       "    }\n",
       "</style>\n",
       "<table border=\"1\" class=\"dataframe\">\n",
       "  <thead>\n",
       "    <tr style=\"text-align: right;\">\n",
       "      <th></th>\n",
       "      <th>PassengerId</th>\n",
       "      <th>Name</th>\n",
       "      <th>PeopleCount</th>\n",
       "      <th>NumGroup</th>\n",
       "      <th>index</th>\n",
       "      <th>NumRelatives</th>\n",
       "    </tr>\n",
       "  </thead>\n",
       "  <tbody>\n",
       "    <tr>\n",
       "      <th>2822</th>\n",
       "      <td>3044_01</td>\n",
       "      <td>Fowlesterez</td>\n",
       "      <td>1</td>\n",
       "      <td>3044</td>\n",
       "      <td>2822</td>\n",
       "      <td>1.0</td>\n",
       "    </tr>\n",
       "    <tr>\n",
       "      <th>3423</th>\n",
       "      <td>3690_01</td>\n",
       "      <td>Fowlesterez</td>\n",
       "      <td>1</td>\n",
       "      <td>3690</td>\n",
       "      <td>3423</td>\n",
       "      <td>1.0</td>\n",
       "    </tr>\n",
       "    <tr>\n",
       "      <th>3652</th>\n",
       "      <td>3926_01</td>\n",
       "      <td>Fowlesterez</td>\n",
       "      <td>1</td>\n",
       "      <td>3926</td>\n",
       "      <td>3652</td>\n",
       "      <td>1.0</td>\n",
       "    </tr>\n",
       "    <tr>\n",
       "      <th>3925</th>\n",
       "      <td>4188_01</td>\n",
       "      <td>Fowlesterez</td>\n",
       "      <td>1</td>\n",
       "      <td>4188</td>\n",
       "      <td>3925</td>\n",
       "      <td>1.0</td>\n",
       "    </tr>\n",
       "    <tr>\n",
       "      <th>5586</th>\n",
       "      <td>5950_01</td>\n",
       "      <td>Fowlesterez</td>\n",
       "      <td>1</td>\n",
       "      <td>5950</td>\n",
       "      <td>5586</td>\n",
       "      <td>1.0</td>\n",
       "    </tr>\n",
       "    <tr>\n",
       "      <th>7667</th>\n",
       "      <td>8182_01</td>\n",
       "      <td>Fowlesterez</td>\n",
       "      <td>1</td>\n",
       "      <td>8182</td>\n",
       "      <td>7667</td>\n",
       "      <td>1.0</td>\n",
       "    </tr>\n",
       "    <tr>\n",
       "      <th>8408</th>\n",
       "      <td>8988_02</td>\n",
       "      <td>Fowlesterez</td>\n",
       "      <td>8</td>\n",
       "      <td>8988</td>\n",
       "      <td>8408</td>\n",
       "      <td>5.0</td>\n",
       "    </tr>\n",
       "    <tr>\n",
       "      <th>8409</th>\n",
       "      <td>8988_03</td>\n",
       "      <td>Fowlesterez</td>\n",
       "      <td>8</td>\n",
       "      <td>8988</td>\n",
       "      <td>8409</td>\n",
       "      <td>5.0</td>\n",
       "    </tr>\n",
       "    <tr>\n",
       "      <th>8411</th>\n",
       "      <td>8988_05</td>\n",
       "      <td>Fowlesterez</td>\n",
       "      <td>8</td>\n",
       "      <td>8988</td>\n",
       "      <td>8411</td>\n",
       "      <td>5.0</td>\n",
       "    </tr>\n",
       "    <tr>\n",
       "      <th>8412</th>\n",
       "      <td>8988_06</td>\n",
       "      <td>Fowlesterez</td>\n",
       "      <td>8</td>\n",
       "      <td>8988</td>\n",
       "      <td>8412</td>\n",
       "      <td>5.0</td>\n",
       "    </tr>\n",
       "    <tr>\n",
       "      <th>8414</th>\n",
       "      <td>8988_08</td>\n",
       "      <td>Fowlesterez</td>\n",
       "      <td>8</td>\n",
       "      <td>8988</td>\n",
       "      <td>8414</td>\n",
       "      <td>5.0</td>\n",
       "    </tr>\n",
       "  </tbody>\n",
       "</table>\n",
       "</div>"
      ],
      "text/plain": [
       "     PassengerId         Name  PeopleCount  NumGroup  index  NumRelatives\n",
       "2822     3044_01  Fowlesterez            1      3044   2822           1.0\n",
       "3423     3690_01  Fowlesterez            1      3690   3423           1.0\n",
       "3652     3926_01  Fowlesterez            1      3926   3652           1.0\n",
       "3925     4188_01  Fowlesterez            1      4188   3925           1.0\n",
       "5586     5950_01  Fowlesterez            1      5950   5586           1.0\n",
       "7667     8182_01  Fowlesterez            1      8182   7667           1.0\n",
       "8408     8988_02  Fowlesterez            8      8988   8408           5.0\n",
       "8409     8988_03  Fowlesterez            8      8988   8409           5.0\n",
       "8411     8988_05  Fowlesterez            8      8988   8411           5.0\n",
       "8412     8988_06  Fowlesterez            8      8988   8412           5.0\n",
       "8414     8988_08  Fowlesterez            8      8988   8414           5.0"
      ]
     },
     "execution_count": 55,
     "metadata": {},
     "output_type": "execute_result"
    }
   ],
   "source": [
    "df[df['Name']=='Fowlesterez'][['PassengerId','Name','PeopleCount','NumGroup', 'index','NumRelatives']]"
   ]
  },
  {
   "cell_type": "markdown",
   "id": "c92faa79",
   "metadata": {},
   "source": [
    "Удалим столбцы, которые теперь не нужны"
   ]
  },
  {
   "cell_type": "code",
   "execution_count": 56,
   "id": "2785b952",
   "metadata": {},
   "outputs": [],
   "source": [
    "df = df.drop(['index','Name','PassengerId','NumGroup'], axis = 1)"
   ]
  },
  {
   "cell_type": "markdown",
   "id": "a6279cb7",
   "metadata": {},
   "source": [
    "# Преобразование типов"
   ]
  },
  {
   "cell_type": "code",
   "execution_count": 57,
   "id": "c5ae4bf1",
   "metadata": {},
   "outputs": [],
   "source": [
    "df['HomePlanet'] = df['HomePlanet'].astype('int64')\n",
    "df['CryoSleep'] = df['CryoSleep'].astype('int64')\n",
    "df['Destination'] = df['Destination'].astype('int64')\n",
    "df['VIP'] = df['VIP'].astype('int64')\n",
    "df['Transported'] = df['Transported'].astype('int64')\n",
    "df['Cabin_literal'] = df['Cabin_literal'].astype('int64')"
   ]
  },
  {
   "cell_type": "markdown",
   "id": "1c64d670",
   "metadata": {},
   "source": [
    "# Проверка корреляции"
   ]
  },
  {
   "cell_type": "code",
   "execution_count": 58,
   "id": "df4fbab4",
   "metadata": {
    "scrolled": false
   },
   "outputs": [
    {
     "data": {
      "text/plain": [
       "<AxesSubplot: title={'center': 'Pearson Correlation of Features'}>"
      ]
     },
     "execution_count": 58,
     "metadata": {},
     "output_type": "execute_result"
    },
    {
     "data": {
      "image/png": "[encoded data removed]",
      "text/plain": [
       "<Figure size 1200x1200 with 2 Axes>"
      ]
     },
     "metadata": {},
     "output_type": "display_data"
    }
   ],
   "source": [
    "colormap = plt.cm.viridis\n",
    "plt.figure(figsize=(12,12))\n",
    "plt.title('Pearson Correlation of Features', y=1.05, size=15)\n",
    "sns.heatmap(df.astype(float).corr(),linewidths=0.1,vmax=1.0, square=True, cmap=colormap, linecolor='white', annot=True)"
   ]
  },
  {
   "cell_type": "markdown",
   "id": "56879347",
   "metadata": {},
   "source": [
    "Мы видим сильную корреляцию между признаками NumRelatives и PeopleCount и надо избавиться от одного из этих признаков. Лучший результат показало удаление столбца NumRelatives"
   ]
  },
  {
   "cell_type": "code",
   "execution_count": 59,
   "id": "baab817b",
   "metadata": {},
   "outputs": [],
   "source": [
    "df = df.drop(['NumRelatives'], axis = 1)"
   ]
  },
  {
   "cell_type": "code",
   "execution_count": 60,
   "id": "4ad0955b",
   "metadata": {},
   "outputs": [
    {
     "data": {
      "text/plain": [
       "Transported      1.000000\n",
       "CryoSleep        0.469680\n",
       "HomePlanet       0.112798\n",
       "PeopleCount      0.083804\n",
       "Destination      0.071072\n",
       "VIP             -0.039644\n",
       "Age             -0.075864\n",
       "Side            -0.104054\n",
       "Cabin_literal   -0.105765\n",
       "SpentMoney      -0.197460\n",
       "Name: Transported, dtype: float64"
      ]
     },
     "execution_count": 60,
     "metadata": {},
     "output_type": "execute_result"
    }
   ],
   "source": [
    "df.corr()['Transported'].sort_values(ascending=False)"
   ]
  },
  {
   "cell_type": "code",
   "execution_count": 61,
   "id": "7011064a",
   "metadata": {},
   "outputs": [],
   "source": [
    "#Небольшое улучшение дало удаление этих параметров\n",
    "df = df.drop(['VIP'], axis = 1)\n",
    "df = df.drop(['Age'], axis = 1)"
   ]
  },
  {
   "cell_type": "markdown",
   "id": "bda3175c",
   "metadata": {},
   "source": [
    "# Обучение модели"
   ]
  },
  {
   "cell_type": "markdown",
   "id": "af07172f",
   "metadata": {},
   "source": [
    "Напишем функции для обучения и оценки DecisionTreeClassifier и RandomForestClassifier. Для задачи классификации оценивать модели мы будем с помощью метрики **accuracy score** - это доля правильно предсказанных классов. Чтоб оценить работу моделей без привязке к определенному разбиению данных, будем выводить **среднее значение accuracy score для 30-и выборок**."
   ]
  },
  {
   "cell_type": "code",
   "execution_count": 62,
   "id": "6ea7e44d",
   "metadata": {},
   "outputs": [],
   "source": [
    "def try_decision_tree(**model_params):\n",
    "  \n",
    "    pipeline = make_pipeline(DecisionTreeClassifier(**model_params))\n",
    "    \n",
    "    x = df.drop('Transported', axis = 1)\n",
    "    y = df['Transported']\n",
    "    \n",
    "    n = 30\n",
    "    \n",
    "    accuracy = 0\n",
    "    for i in range(1,n+1):\n",
    "        x_train, x_test, y_train, y_test = train_test_split(x, y, test_size=0.25, train_size=0.75, random_state=i )\n",
    "        pipeline.fit(x_train, y_train)\n",
    "        y_pred = pipeline.predict(x_test)\n",
    "        accuracy+=accuracy_score(y_pred, y_test)\n",
    "        \n",
    "    print('accuracy score:', accuracy/n )    \n",
    "\n",
    "    "
   ]
  },
  {
   "cell_type": "code",
   "execution_count": 63,
   "id": "2fddbe10",
   "metadata": {},
   "outputs": [],
   "source": [
    "def try_random_forest(**model_params):\n",
    "  \n",
    "    pipeline = make_pipeline(RandomForestClassifier(**model_params))\n",
    "    \n",
    "    x = df.drop('Transported', axis = 1)\n",
    "    y = df['Transported']\n",
    "    \n",
    "    n = 30\n",
    "    \n",
    "    accuracy = 0\n",
    "    for i in range(1,n+1):\n",
    "        x_train, x_test, y_train, y_test = train_test_split(x, y, test_size=0.25, train_size=0.75, random_state=i )\n",
    "        pipeline.fit(x_train, y_train)\n",
    "        y_pred = pipeline.predict(x_test)\n",
    "        accuracy+=accuracy_score(y_pred, y_test)\n",
    "    print('accuracy score:', accuracy/n )    \n",
    "\n",
    "   "
   ]
  },
  {
   "cell_type": "markdown",
   "id": "4d15b47d",
   "metadata": {},
   "source": [
    "## DecisionTreeClassifier"
   ]
  },
  {
   "cell_type": "markdown",
   "id": "6411d949",
   "metadata": {},
   "source": [
    "DecisionTreeClassifier с параметрами по умолчанию"
   ]
  },
  {
   "cell_type": "code",
   "execution_count": 64,
   "id": "a569cb6c",
   "metadata": {},
   "outputs": [
    {
     "name": "stdout",
     "output_type": "stream",
     "text": [
      "accuracy score: 0.7054493628437292\n"
     ]
    }
   ],
   "source": [
    "try_decision_tree()"
   ]
  },
  {
   "cell_type": "markdown",
   "id": "5c5c1d8d",
   "metadata": {},
   "source": [
    "Посмотрим, насколько мы сможем улучшить показатель, подобрав дополнительные параметры. Значения параметров выбираются методом ручного подбора. "
   ]
  },
  {
   "cell_type": "code",
   "execution_count": 65,
   "id": "673c422c",
   "metadata": {
    "scrolled": false
   },
   "outputs": [
    {
     "name": "stdout",
     "output_type": "stream",
     "text": [
      "accuracy score: 0.7441146881287726\n"
     ]
    }
   ],
   "source": [
    "try_decision_tree(random_state=44, max_depth = 6)"
   ]
  },
  {
   "cell_type": "markdown",
   "id": "66e0aa2d",
   "metadata": {},
   "source": [
    "Применение параметра min_samples_leaf не дало улучшения. Наилучший подобранный вариант с использованием min_samples_leaf:"
   ]
  },
  {
   "cell_type": "code",
   "execution_count": 66,
   "id": "e105450b",
   "metadata": {},
   "outputs": [
    {
     "name": "stdout",
     "output_type": "stream",
     "text": [
      "accuracy score: 0.7425050301810863\n"
     ]
    }
   ],
   "source": [
    "try_decision_tree(random_state=44, max_depth = 20, min_samples_leaf = 120)"
   ]
  },
  {
   "cell_type": "markdown",
   "id": "2ca7a87f",
   "metadata": {},
   "source": [
    "Лучший результат мы получили при max_depth = 6."
   ]
  },
  {
   "cell_type": "markdown",
   "id": "ef285955",
   "metadata": {},
   "source": [
    "## RandomForestClassifier"
   ]
  },
  {
   "cell_type": "markdown",
   "id": "f3e8208c",
   "metadata": {},
   "source": [
    "RandomForestClassifier с параметрами по умолчанию"
   ]
  },
  {
   "cell_type": "code",
   "execution_count": 67,
   "id": "b61475d4",
   "metadata": {
    "scrolled": false
   },
   "outputs": [
    {
     "name": "stdout",
     "output_type": "stream",
     "text": [
      "accuracy score: 0.7119215291750502\n"
     ]
    }
   ],
   "source": [
    "try_random_forest()"
   ]
  },
  {
   "cell_type": "markdown",
   "id": "a0ba9bd0",
   "metadata": {},
   "source": [
    "Посмотрим, насколько мы сможем улучшить показатель, подобрав дополнительные параметры"
   ]
  },
  {
   "cell_type": "code",
   "execution_count": 68,
   "id": "1f1b2577",
   "metadata": {
    "scrolled": true
   },
   "outputs": [
    {
     "name": "stdout",
     "output_type": "stream",
     "text": [
      "accuracy score: 0.7383635144198524\n"
     ]
    }
   ],
   "source": [
    "try_random_forest(n_estimators=1, random_state=44, max_depth = 6)"
   ]
  },
  {
   "cell_type": "code",
   "execution_count": 72,
   "id": "e8c7af9e",
   "metadata": {},
   "outputs": [
    {
     "name": "stdout",
     "output_type": "stream",
     "text": [
      "accuracy score: 0.7455063715627096\n"
     ]
    }
   ],
   "source": [
    "try_random_forest(n_estimators=80, random_state=44, max_depth = 6)"
   ]
  },
  {
   "cell_type": "markdown",
   "id": "11f7d1ac",
   "metadata": {},
   "source": [
    "# Заключение"
   ]
  },
  {
   "cell_type": "markdown",
   "id": "734d9342",
   "metadata": {},
   "source": [
    "Наилучший результат показали: \n",
    "- DecisionTreeClassifier с параметрами random_state=44, max_depth = 6\n",
    "- RandomForestClassifier с параметрами n_estimators=80, random_state=44, max_depth = 6"
   ]
  }
 ],
 "metadata": {
  "kernelspec": {
   "display_name": "Python 3 (ipykernel)",
   "language": "python",
   "name": "python3"
  },
  "language_info": {
   "codemirror_mode": {
    "name": "ipython",
    "version": 3
   },
   "file_extension": ".py",
   "mimetype": "text/x-python",
   "name": "python",
   "nbconvert_exporter": "python",
   "pygments_lexer": "ipython3",
   "version": "3.11.1"
  }
 },
 "nbformat": 4,
 "nbformat_minor": 5
}
