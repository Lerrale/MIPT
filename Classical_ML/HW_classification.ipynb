{
 "cells": [
  {
   "cell_type": "code",
   "execution_count": 1,
   "id": "062c7d08",
   "metadata": {},
   "outputs": [
    {
     "ename": "ModuleNotFoundError",
     "evalue": "No module named 'sklearn'",
     "output_type": "error",
     "traceback": [
      "\u001b[1;31m---------------------------------------------------------------------------\u001b[0m",
      "\u001b[1;31mModuleNotFoundError\u001b[0m                       Traceback (most recent call last)",
      "Cell \u001b[1;32mIn[1], line 4\u001b[0m\n\u001b[0;32m      2\u001b[0m \u001b[38;5;28;01mimport\u001b[39;00m \u001b[38;5;21;01mpandas\u001b[39;00m \u001b[38;5;28;01mas\u001b[39;00m \u001b[38;5;21;01mpd\u001b[39;00m\n\u001b[0;32m      3\u001b[0m \u001b[38;5;28;01mimport\u001b[39;00m \u001b[38;5;21;01mmatplotlib\u001b[39;00m\u001b[38;5;21;01m.\u001b[39;00m\u001b[38;5;21;01mpyplot\u001b[39;00m \u001b[38;5;28;01mas\u001b[39;00m \u001b[38;5;21;01mplt\u001b[39;00m\n\u001b[1;32m----> 4\u001b[0m \u001b[38;5;28;01mfrom\u001b[39;00m \u001b[38;5;21;01msklearn\u001b[39;00m\u001b[38;5;21;01m.\u001b[39;00m\u001b[38;5;21;01mmetrics\u001b[39;00m \u001b[38;5;28;01mimport\u001b[39;00m (accuracy_score, precision_score, recall_score,\n\u001b[0;32m      5\u001b[0m                              f1_score, roc_auc_score, roc_curve, auc,\n\u001b[0;32m      6\u001b[0m                              classification_report)\n\u001b[0;32m      7\u001b[0m \u001b[38;5;28;01mfrom\u001b[39;00m \u001b[38;5;21;01msklearn\u001b[39;00m\u001b[38;5;21;01m.\u001b[39;00m\u001b[38;5;21;01mmodel_selection\u001b[39;00m \u001b[38;5;28;01mimport\u001b[39;00m train_test_split\n",
      "\u001b[1;31mModuleNotFoundError\u001b[0m: No module named 'sklearn'"
     ]
    }
   ],
   "source": [
    "import numpy as np\n",
    "import pandas as pd\n",
    "import matplotlib.pyplot as plt\n",
    "from sklearn.metrics import (accuracy_score, precision_score, recall_score,\n",
    "                             f1_score, roc_auc_score, roc_curve, auc,\n",
    "                             classification_report)\n",
    "from sklearn.model_selection import train_test_split"
   ]
  },
  {
   "cell_type": "code",
   "execution_count": null,
   "id": "36ed4809",
   "metadata": {},
   "outputs": [],
   "source": [
    "df1 = pd.read_csv('https://lms.skillfactory.ru/asset-v1:SkillFactory+MIPTDS+SEPT22+type@asset+block@train.csv', sep=',')"
   ]
  },
  {
   "cell_type": "code",
   "execution_count": null,
   "id": "09e63e9c",
   "metadata": {},
   "outputs": [],
   "source": [
    "df = df1.copy()"
   ]
  },
  {
   "cell_type": "code",
   "execution_count": null,
   "id": "9c7b4bcd",
   "metadata": {
    "scrolled": false
   },
   "outputs": [],
   "source": [
    "display(df)"
   ]
  },
  {
   "cell_type": "markdown",
   "id": "126b3481",
   "metadata": {},
   "source": [
    "## Предобработка данных"
   ]
  },
  {
   "cell_type": "code",
   "execution_count": null,
   "id": "c1f80728",
   "metadata": {
    "scrolled": false
   },
   "outputs": [],
   "source": [
    "# Проверим, есть ли в датасете незаполненные значения\n",
    "# Мы видим, что в столбце Cabin, Age, Embarked есть пропуски \n",
    "df.info()"
   ]
  },
  {
   "cell_type": "code",
   "execution_count": null,
   "id": "a28cfe25",
   "metadata": {},
   "outputs": [],
   "source": [
    "# Удалим столбец Cabin из-за огромного количества пропусков и столбцы PassengerId, Name, Ticket, \n",
    "# Embarked так как они не понадобятся для обучения модели\n",
    "df = df.drop(['Cabin','PassengerId', 'Name', 'Ticket', 'Embarked',], axis=1)"
   ]
  },
  {
   "cell_type": "code",
   "execution_count": null,
   "id": "c26a26a0",
   "metadata": {},
   "outputs": [],
   "source": [
    "# Удалим строки, в которых пропущено значение Age\n",
    "df.dropna(inplace = True)"
   ]
  },
  {
   "cell_type": "code",
   "execution_count": null,
   "id": "b97dd6b8",
   "metadata": {},
   "outputs": [],
   "source": [
    "# Заменим значения в признаке Sex на 0(male) и 1(female)\n",
    "df.loc[df.Sex == 'male', 'Sex'] = 0\n",
    "df.loc[df.Sex == 'female', 'Sex'] = 1"
   ]
  },
  {
   "cell_type": "code",
   "execution_count": null,
   "id": "48b8bb58",
   "metadata": {
    "scrolled": false
   },
   "outputs": [],
   "source": [
    "# Все пропуски заполнены\n",
    "df.isnull().sum()"
   ]
  },
  {
   "cell_type": "code",
   "execution_count": null,
   "id": "47509164",
   "metadata": {
    "scrolled": false
   },
   "outputs": [],
   "source": [
    "# Проверим сбалансированность данных\n",
    "df.Survived.value_counts().plot(kind='bar', title='Count (target)', color = ['b', 'g'])"
   ]
  },
  {
   "cell_type": "markdown",
   "id": "9fc1606a",
   "metadata": {},
   "source": [
    "Баланс не идеальный, но какой-то дополнительной балансировки не требуется"
   ]
  },
  {
   "cell_type": "markdown",
   "id": "e2aa39c4",
   "metadata": {},
   "source": [
    "## Обучение моделей"
   ]
  },
  {
   "cell_type": "markdown",
   "id": "73d2ac06",
   "metadata": {},
   "source": [
    "Разобъем наш датасет на выборки"
   ]
  },
  {
   "cell_type": "code",
   "execution_count": null,
   "id": "4ee14a66",
   "metadata": {},
   "outputs": [],
   "source": [
    "x = df.drop('Survived', axis = 1)\n",
    "y = df['Survived']\n",
    "x_train, x_test, y_train, y_test = train_test_split(x, y, stratify=y, test_size=0.25, random_state=14 )\n"
   ]
  },
  {
   "cell_type": "code",
   "execution_count": null,
   "id": "1fb09b45",
   "metadata": {},
   "outputs": [],
   "source": [
    "from sklearn.linear_model import LogisticRegression\n",
    "from sklearn.svm import SVC\n",
    "from sklearn.naive_bayes import GaussianNB\n",
    "from sklearn.neighbors import KNeighborsClassifier\n",
    "from sklearn.pipeline import make_pipeline\n",
    "from sklearn.preprocessing import StandardScaler\n",
    "from sklearn.metrics import RocCurveDisplay\n",
    "\n",
    "\n",
    "def try_model(model, x_train, y_train, x_test, y_test, model_params=None):\n",
    "    if model_params is None:\n",
    "        model_params = dict()\n",
    "    print(model.__name__)\n",
    "    pipeline = make_pipeline(StandardScaler(), model(**model_params))\n",
    "    pipeline.fit(x_train, y_train)\n",
    "    y_pred = pipeline.predict(x_test)\n",
    "    print('Accuracy:', accuracy_score(y_test, y_pred))\n",
    "    print('Precision:', precision_score(y_test, y_pred))\n",
    "    print('Recall:', recall_score(y_test, y_pred))\n",
    "    print('F1 score:', f1_score(y_test, y_pred))\n",
    "    print(y_pred)\n",
    "\n",
    "    fpr, tpr, thresholds = roc_curve(y_test, pipeline.predict_proba(x_test)[:, 1])\n",
    "    plt.plot(fpr, tpr, color=\"darkorange\", label=f\"ROC curve (area = {auc(fpr, tpr):0.3f})\")\n",
    "    plt.plot([0, 1], [0, 1], color=\"navy\", linestyle=\"--\")\n",
    "    plt.legend()\n",
    "\n",
    "    # for sklearn.__version__ of 1.0 and above\n",
    "    # display = RocCurveDisplay.from_estimator(pipeline, X_test, y_test)\n",
    "    # display.plot()\n",
    "    # plt.show()\n",
    "    return pipeline"
   ]
  },
  {
   "cell_type": "markdown",
   "id": "6d217981",
   "metadata": {},
   "source": [
    "#### Для оценки мы будем использовать метрики Accuracy, Precision, Recall, F1 score и ROC curve в совокупности и будем оценивать эффективность обучения модели по минимальному значению из полученных"
   ]
  },
  {
   "cell_type": "markdown",
   "id": "1f76f347",
   "metadata": {},
   "source": [
    "#### KNeighborsClassifier"
   ]
  },
  {
   "cell_type": "code",
   "execution_count": null,
   "id": "f2f39d0b",
   "metadata": {
    "scrolled": false
   },
   "outputs": [],
   "source": [
    "try_model(KNeighborsClassifier, x_train, y_train, x_test, y_test, model_params=dict(n_neighbors=5))"
   ]
  },
  {
   "cell_type": "markdown",
   "id": "ea2493a2",
   "metadata": {},
   "source": [
    "Минимальное значение из полученных - 0.75"
   ]
  },
  {
   "cell_type": "markdown",
   "id": "ca659876",
   "metadata": {},
   "source": [
    "#### GaussianNB"
   ]
  },
  {
   "cell_type": "code",
   "execution_count": null,
   "id": "bc3b7816",
   "metadata": {
    "scrolled": false
   },
   "outputs": [],
   "source": [
    "try_model(GaussianNB, x_train, y_train, x_test, y_test)"
   ]
  },
  {
   "cell_type": "markdown",
   "id": "8284ab83",
   "metadata": {},
   "source": [
    "Минимальное значение из полученных - 0.71"
   ]
  },
  {
   "cell_type": "markdown",
   "id": "4f9072ff",
   "metadata": {},
   "source": [
    "#### LogisticRegression"
   ]
  },
  {
   "cell_type": "code",
   "execution_count": null,
   "id": "9c769994",
   "metadata": {
    "scrolled": false
   },
   "outputs": [],
   "source": [
    "try_model(LogisticRegression, x_train, y_train, x_test, y_test)"
   ]
  },
  {
   "cell_type": "markdown",
   "id": "ff94fe2c",
   "metadata": {},
   "source": [
    "Минимальное значение из полученных - 0.72"
   ]
  },
  {
   "cell_type": "markdown",
   "id": "68e3322f",
   "metadata": {},
   "source": [
    "#### SVC"
   ]
  },
  {
   "cell_type": "code",
   "execution_count": null,
   "id": "da03c29f",
   "metadata": {
    "scrolled": false
   },
   "outputs": [],
   "source": [
    "try_model(SVC, x_train, y_train, x_test, y_test,model_params=dict(\n",
    "            probability=True,\n",
    "))"
   ]
  },
  {
   "cell_type": "markdown",
   "id": "b4ccc1f8",
   "metadata": {},
   "source": [
    "Минимальное значение из полученных - 0.73"
   ]
  },
  {
   "cell_type": "markdown",
   "id": "3acd57d5",
   "metadata": {},
   "source": [
    "## Заключение\n",
    "Лучший результат показала модель KNeighborsClassifier"
   ]
  }
 ],
 "metadata": {
  "kernelspec": {
   "display_name": "Python 3 (ipykernel)",
   "language": "python",
   "name": "python3"
  },
  "language_info": {
   "codemirror_mode": {
    "name": "ipython",
    "version": 3
   },
   "file_extension": ".py",
   "mimetype": "text/x-python",
   "name": "python",
   "nbconvert_exporter": "python",
   "pygments_lexer": "ipython3",
   "version": "3.11.1"
  }
 },
 "nbformat": 4,
 "nbformat_minor": 5
}
